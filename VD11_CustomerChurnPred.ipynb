{
  "metadata": {
    "kernelspec": {
      "language": "python",
      "display_name": "Python 3",
      "name": "python3"
    },
    "language_info": {
      "name": "python",
      "version": "3.10.13",
      "mimetype": "text/x-python",
      "codemirror_mode": {
        "name": "ipython",
        "version": 3
      },
      "pygments_lexer": "ipython3",
      "nbconvert_exporter": "python",
      "file_extension": ".py"
    },
    "kaggle": {
      "accelerator": "none",
      "dataSources": [
        {
          "sourceId": 18644,
          "sourceType": "datasetVersion",
          "datasetId": 13831
        }
      ],
      "dockerImageVersionId": 30732,
      "isInternetEnabled": false,
      "language": "python",
      "sourceType": "notebook",
      "isGpuEnabled": false
    },
    "colab": {
      "name": "VD11_CustomerChurnPred",
      "provenance": []
    }
  },
  "nbformat_minor": 0,
  "nbformat": 4,
  "cells": [
    {
      "source": [
        "\n",
        "# IMPORTANT: RUN THIS CELL IN ORDER TO IMPORT YOUR KAGGLE DATA SOURCES\n",
        "# TO THE CORRECT LOCATION (/kaggle/input) IN YOUR NOTEBOOK,\n",
        "# THEN FEEL FREE TO DELETE THIS CELL.\n",
        "# NOTE: THIS NOTEBOOK ENVIRONMENT DIFFERS FROM KAGGLE'S PYTHON\n",
        "# ENVIRONMENT SO THERE MAY BE MISSING LIBRARIES USED BY YOUR\n",
        "# NOTEBOOK.\n",
        "\n",
        "import os\n",
        "import sys\n",
        "from tempfile import NamedTemporaryFile\n",
        "from urllib.request import urlopen\n",
        "from urllib.parse import unquote, urlparse\n",
        "from urllib.error import HTTPError\n",
        "from zipfile import ZipFile\n",
        "import tarfile\n",
        "import shutil\n",
        "\n",
        "CHUNK_SIZE = 40960\n",
        "DATA_SOURCE_MAPPING = 'churn-modelling:https%3A%2F%2Fstorage.googleapis.com%2Fkaggle-data-sets%2F13831%2F18644%2Fbundle%2Farchive.zip%3FX-Goog-Algorithm%3DGOOG4-RSA-SHA256%26X-Goog-Credential%3Dgcp-kaggle-com%2540kaggle-161607.iam.gserviceaccount.com%252F20240629%252Fauto%252Fstorage%252Fgoog4_request%26X-Goog-Date%3D20240629T151221Z%26X-Goog-Expires%3D259200%26X-Goog-SignedHeaders%3Dhost%26X-Goog-Signature%3Dc204067894f8424aa212d4988b824614e5bb732ef80fa44dafa57bc9ba33af077a771b61b551ff5b8dc80302280a85ab940bd2ead4110fae5e4e18d59a29f23ae298e8fb8540cccdaf53a20325b6cfb34037b3f8e422dcfb4f3cad40a9bee5871a0e7df0ae6ce3c1c3a5cd19db00c70405e27f87b74bfc2edc62988cf7eb2790831f165e3d0076deb4ce93a83f3a5def7ee0363fe63afbb2a025486c814c35ad4c238e06953227f519625ecfb30fdb9d5fe3c791d080ab5a73c62a4d018c077468e8c47275d5d80f01c315b1f8b4a64fc952a6da34d46ab2a66c0c2dd277443d835e11cbc9bb4b6443b12875300ec38547b8ba3bd3455b77d9264d90e027b0c6'\n",
        "\n",
        "KAGGLE_INPUT_PATH='/kaggle/input'\n",
        "KAGGLE_WORKING_PATH='/kaggle/working'\n",
        "KAGGLE_SYMLINK='kaggle'\n",
        "\n",
        "!umount /kaggle/input/ 2> /dev/null\n",
        "shutil.rmtree('/kaggle/input', ignore_errors=True)\n",
        "os.makedirs(KAGGLE_INPUT_PATH, 0o777, exist_ok=True)\n",
        "os.makedirs(KAGGLE_WORKING_PATH, 0o777, exist_ok=True)\n",
        "\n",
        "try:\n",
        "  os.symlink(KAGGLE_INPUT_PATH, os.path.join(\"..\", 'input'), target_is_directory=True)\n",
        "except FileExistsError:\n",
        "  pass\n",
        "try:\n",
        "  os.symlink(KAGGLE_WORKING_PATH, os.path.join(\"..\", 'working'), target_is_directory=True)\n",
        "except FileExistsError:\n",
        "  pass\n",
        "\n",
        "for data_source_mapping in DATA_SOURCE_MAPPING.split(','):\n",
        "    directory, download_url_encoded = data_source_mapping.split(':')\n",
        "    download_url = unquote(download_url_encoded)\n",
        "    filename = urlparse(download_url).path\n",
        "    destination_path = os.path.join(KAGGLE_INPUT_PATH, directory)\n",
        "    try:\n",
        "        with urlopen(download_url) as fileres, NamedTemporaryFile() as tfile:\n",
        "            total_length = fileres.headers['content-length']\n",
        "            print(f'Downloading {directory}, {total_length} bytes compressed')\n",
        "            dl = 0\n",
        "            data = fileres.read(CHUNK_SIZE)\n",
        "            while len(data) > 0:\n",
        "                dl += len(data)\n",
        "                tfile.write(data)\n",
        "                done = int(50 * dl / int(total_length))\n",
        "                sys.stdout.write(f\"\\r[{'=' * done}{' ' * (50-done)}] {dl} bytes downloaded\")\n",
        "                sys.stdout.flush()\n",
        "                data = fileres.read(CHUNK_SIZE)\n",
        "            if filename.endswith('.zip'):\n",
        "              with ZipFile(tfile) as zfile:\n",
        "                zfile.extractall(destination_path)\n",
        "            else:\n",
        "              with tarfile.open(tfile.name) as tarfile:\n",
        "                tarfile.extractall(destination_path)\n",
        "            print(f'\\nDownloaded and uncompressed: {directory}')\n",
        "    except HTTPError as e:\n",
        "        print(f'Failed to load (likely expired) {download_url} to path {destination_path}')\n",
        "        continue\n",
        "    except OSError as e:\n",
        "        print(f'Failed to load {download_url} to path {destination_path}')\n",
        "        continue\n",
        "\n",
        "print('Data source import complete.')\n"
      ],
      "metadata": {
        "id": "NBaSVBVzjgW9",
        "outputId": "1b0c4fdc-2161-4d9f-d23c-b4607b761721",
        "colab": {
          "base_uri": "https://localhost:8080/"
        }
      },
      "cell_type": "code",
      "outputs": [
        {
          "output_type": "stream",
          "name": "stdout",
          "text": [
            "Downloading churn-modelling, 267794 bytes compressed\n",
            "[==================================================] 267794 bytes downloaded\n",
            "Downloaded and uncompressed: churn-modelling\n",
            "Data source import complete.\n"
          ]
        }
      ],
      "execution_count": 1
    },
    {
      "cell_type": "code",
      "source": [
        "# This Python 3 environment comes with many helpful analytics libraries installed\n",
        "# It is defined by the kaggle/python Docker image: https://github.com/kaggle/docker-python\n",
        "# For example, here's several helpful packages to load\n",
        "\n",
        "import numpy as np # linear algebra\n",
        "import pandas as pd # data processing, CSV file I/O (e.g. pd.read_csv)\n",
        "\n",
        "# Input data files are available in the read-only \"../input/\" directory\n",
        "# For example, running this (by clicking run or pressing Shift+Enter) will list all files under the input directory\n",
        "\n",
        "import os\n",
        "for dirname, _, filenames in os.walk('/kaggle/input'):\n",
        "    for filename in filenames:\n",
        "        print(os.path.join(dirname, filename))\n",
        "\n",
        "# You can write up to 20GB to the current directory (/kaggle/working/) that gets preserved as output when you create a version using \"Save & Run All\"\n",
        "# You can also write temporary files to /kaggle/temp/, but they won't be saved outside of the current session"
      ],
      "metadata": {
        "_uuid": "8f2839f25d086af736a60e9eeb907d3b93b6e0e5",
        "_cell_guid": "b1076dfc-b9ad-4769-8c92-a6c4dae69d19",
        "execution": {
          "iopub.status.busy": "2024-06-29T14:18:14.13387Z",
          "iopub.execute_input": "2024-06-29T14:18:14.134267Z",
          "iopub.status.idle": "2024-06-29T14:18:14.552997Z",
          "shell.execute_reply.started": "2024-06-29T14:18:14.134234Z",
          "shell.execute_reply": "2024-06-29T14:18:14.551904Z"
        },
        "trusted": true,
        "id": "SuVpAwoVjgXC",
        "outputId": "f6146491-1be7-49dc-e6ab-28b6d0594c73",
        "colab": {
          "base_uri": "https://localhost:8080/"
        }
      },
      "execution_count": 2,
      "outputs": [
        {
          "output_type": "stream",
          "name": "stdout",
          "text": [
            "/kaggle/input/churn-modelling/Churn_Modelling.csv\n"
          ]
        }
      ]
    },
    {
      "cell_type": "code",
      "source": [
        "df = pd.read_csv(\"/kaggle/input/churn-modelling/Churn_Modelling.csv\")\n",
        "df.head()"
      ],
      "metadata": {
        "execution": {
          "iopub.status.busy": "2024-06-29T14:18:14.555109Z",
          "iopub.execute_input": "2024-06-29T14:18:14.555744Z",
          "iopub.status.idle": "2024-06-29T14:18:14.6234Z",
          "shell.execute_reply.started": "2024-06-29T14:18:14.555701Z",
          "shell.execute_reply": "2024-06-29T14:18:14.622137Z"
        },
        "trusted": true,
        "id": "ci_8lnX-jgXC",
        "outputId": "bac96f9c-f553-46da-9d9e-d975a904dffb",
        "colab": {
          "base_uri": "https://localhost:8080/",
          "height": 206
        }
      },
      "execution_count": 3,
      "outputs": [
        {
          "output_type": "execute_result",
          "data": {
            "text/plain": [
              "   RowNumber  CustomerId   Surname  CreditScore Geography  Gender  Age  \\\n",
              "0          1    15634602  Hargrave          619    France  Female   42   \n",
              "1          2    15647311      Hill          608     Spain  Female   41   \n",
              "2          3    15619304      Onio          502    France  Female   42   \n",
              "3          4    15701354      Boni          699    France  Female   39   \n",
              "4          5    15737888  Mitchell          850     Spain  Female   43   \n",
              "\n",
              "   Tenure    Balance  NumOfProducts  HasCrCard  IsActiveMember  \\\n",
              "0       2       0.00              1          1               1   \n",
              "1       1   83807.86              1          0               1   \n",
              "2       8  159660.80              3          1               0   \n",
              "3       1       0.00              2          0               0   \n",
              "4       2  125510.82              1          1               1   \n",
              "\n",
              "   EstimatedSalary  Exited  \n",
              "0        101348.88       1  \n",
              "1        112542.58       0  \n",
              "2        113931.57       1  \n",
              "3         93826.63       0  \n",
              "4         79084.10       0  "
            ],
            "text/html": [
              "\n",
              "  <div id=\"df-5a3571ca-a3dc-4ac6-b1f7-91da959d7f0e\" class=\"colab-df-container\">\n",
              "    <div>\n",
              "<style scoped>\n",
              "    .dataframe tbody tr th:only-of-type {\n",
              "        vertical-align: middle;\n",
              "    }\n",
              "\n",
              "    .dataframe tbody tr th {\n",
              "        vertical-align: top;\n",
              "    }\n",
              "\n",
              "    .dataframe thead th {\n",
              "        text-align: right;\n",
              "    }\n",
              "</style>\n",
              "<table border=\"1\" class=\"dataframe\">\n",
              "  <thead>\n",
              "    <tr style=\"text-align: right;\">\n",
              "      <th></th>\n",
              "      <th>RowNumber</th>\n",
              "      <th>CustomerId</th>\n",
              "      <th>Surname</th>\n",
              "      <th>CreditScore</th>\n",
              "      <th>Geography</th>\n",
              "      <th>Gender</th>\n",
              "      <th>Age</th>\n",
              "      <th>Tenure</th>\n",
              "      <th>Balance</th>\n",
              "      <th>NumOfProducts</th>\n",
              "      <th>HasCrCard</th>\n",
              "      <th>IsActiveMember</th>\n",
              "      <th>EstimatedSalary</th>\n",
              "      <th>Exited</th>\n",
              "    </tr>\n",
              "  </thead>\n",
              "  <tbody>\n",
              "    <tr>\n",
              "      <th>0</th>\n",
              "      <td>1</td>\n",
              "      <td>15634602</td>\n",
              "      <td>Hargrave</td>\n",
              "      <td>619</td>\n",
              "      <td>France</td>\n",
              "      <td>Female</td>\n",
              "      <td>42</td>\n",
              "      <td>2</td>\n",
              "      <td>0.00</td>\n",
              "      <td>1</td>\n",
              "      <td>1</td>\n",
              "      <td>1</td>\n",
              "      <td>101348.88</td>\n",
              "      <td>1</td>\n",
              "    </tr>\n",
              "    <tr>\n",
              "      <th>1</th>\n",
              "      <td>2</td>\n",
              "      <td>15647311</td>\n",
              "      <td>Hill</td>\n",
              "      <td>608</td>\n",
              "      <td>Spain</td>\n",
              "      <td>Female</td>\n",
              "      <td>41</td>\n",
              "      <td>1</td>\n",
              "      <td>83807.86</td>\n",
              "      <td>1</td>\n",
              "      <td>0</td>\n",
              "      <td>1</td>\n",
              "      <td>112542.58</td>\n",
              "      <td>0</td>\n",
              "    </tr>\n",
              "    <tr>\n",
              "      <th>2</th>\n",
              "      <td>3</td>\n",
              "      <td>15619304</td>\n",
              "      <td>Onio</td>\n",
              "      <td>502</td>\n",
              "      <td>France</td>\n",
              "      <td>Female</td>\n",
              "      <td>42</td>\n",
              "      <td>8</td>\n",
              "      <td>159660.80</td>\n",
              "      <td>3</td>\n",
              "      <td>1</td>\n",
              "      <td>0</td>\n",
              "      <td>113931.57</td>\n",
              "      <td>1</td>\n",
              "    </tr>\n",
              "    <tr>\n",
              "      <th>3</th>\n",
              "      <td>4</td>\n",
              "      <td>15701354</td>\n",
              "      <td>Boni</td>\n",
              "      <td>699</td>\n",
              "      <td>France</td>\n",
              "      <td>Female</td>\n",
              "      <td>39</td>\n",
              "      <td>1</td>\n",
              "      <td>0.00</td>\n",
              "      <td>2</td>\n",
              "      <td>0</td>\n",
              "      <td>0</td>\n",
              "      <td>93826.63</td>\n",
              "      <td>0</td>\n",
              "    </tr>\n",
              "    <tr>\n",
              "      <th>4</th>\n",
              "      <td>5</td>\n",
              "      <td>15737888</td>\n",
              "      <td>Mitchell</td>\n",
              "      <td>850</td>\n",
              "      <td>Spain</td>\n",
              "      <td>Female</td>\n",
              "      <td>43</td>\n",
              "      <td>2</td>\n",
              "      <td>125510.82</td>\n",
              "      <td>1</td>\n",
              "      <td>1</td>\n",
              "      <td>1</td>\n",
              "      <td>79084.10</td>\n",
              "      <td>0</td>\n",
              "    </tr>\n",
              "  </tbody>\n",
              "</table>\n",
              "</div>\n",
              "    <div class=\"colab-df-buttons\">\n",
              "\n",
              "  <div class=\"colab-df-container\">\n",
              "    <button class=\"colab-df-convert\" onclick=\"convertToInteractive('df-5a3571ca-a3dc-4ac6-b1f7-91da959d7f0e')\"\n",
              "            title=\"Convert this dataframe to an interactive table.\"\n",
              "            style=\"display:none;\">\n",
              "\n",
              "  <svg xmlns=\"http://www.w3.org/2000/svg\" height=\"24px\" viewBox=\"0 -960 960 960\">\n",
              "    <path d=\"M120-120v-720h720v720H120Zm60-500h600v-160H180v160Zm220 220h160v-160H400v160Zm0 220h160v-160H400v160ZM180-400h160v-160H180v160Zm440 0h160v-160H620v160ZM180-180h160v-160H180v160Zm440 0h160v-160H620v160Z\"/>\n",
              "  </svg>\n",
              "    </button>\n",
              "\n",
              "  <style>\n",
              "    .colab-df-container {\n",
              "      display:flex;\n",
              "      gap: 12px;\n",
              "    }\n",
              "\n",
              "    .colab-df-convert {\n",
              "      background-color: #E8F0FE;\n",
              "      border: none;\n",
              "      border-radius: 50%;\n",
              "      cursor: pointer;\n",
              "      display: none;\n",
              "      fill: #1967D2;\n",
              "      height: 32px;\n",
              "      padding: 0 0 0 0;\n",
              "      width: 32px;\n",
              "    }\n",
              "\n",
              "    .colab-df-convert:hover {\n",
              "      background-color: #E2EBFA;\n",
              "      box-shadow: 0px 1px 2px rgba(60, 64, 67, 0.3), 0px 1px 3px 1px rgba(60, 64, 67, 0.15);\n",
              "      fill: #174EA6;\n",
              "    }\n",
              "\n",
              "    .colab-df-buttons div {\n",
              "      margin-bottom: 4px;\n",
              "    }\n",
              "\n",
              "    [theme=dark] .colab-df-convert {\n",
              "      background-color: #3B4455;\n",
              "      fill: #D2E3FC;\n",
              "    }\n",
              "\n",
              "    [theme=dark] .colab-df-convert:hover {\n",
              "      background-color: #434B5C;\n",
              "      box-shadow: 0px 1px 3px 1px rgba(0, 0, 0, 0.15);\n",
              "      filter: drop-shadow(0px 1px 2px rgba(0, 0, 0, 0.3));\n",
              "      fill: #FFFFFF;\n",
              "    }\n",
              "  </style>\n",
              "\n",
              "    <script>\n",
              "      const buttonEl =\n",
              "        document.querySelector('#df-5a3571ca-a3dc-4ac6-b1f7-91da959d7f0e button.colab-df-convert');\n",
              "      buttonEl.style.display =\n",
              "        google.colab.kernel.accessAllowed ? 'block' : 'none';\n",
              "\n",
              "      async function convertToInteractive(key) {\n",
              "        const element = document.querySelector('#df-5a3571ca-a3dc-4ac6-b1f7-91da959d7f0e');\n",
              "        const dataTable =\n",
              "          await google.colab.kernel.invokeFunction('convertToInteractive',\n",
              "                                                    [key], {});\n",
              "        if (!dataTable) return;\n",
              "\n",
              "        const docLinkHtml = 'Like what you see? Visit the ' +\n",
              "          '<a target=\"_blank\" href=https://colab.research.google.com/notebooks/data_table.ipynb>data table notebook</a>'\n",
              "          + ' to learn more about interactive tables.';\n",
              "        element.innerHTML = '';\n",
              "        dataTable['output_type'] = 'display_data';\n",
              "        await google.colab.output.renderOutput(dataTable, element);\n",
              "        const docLink = document.createElement('div');\n",
              "        docLink.innerHTML = docLinkHtml;\n",
              "        element.appendChild(docLink);\n",
              "      }\n",
              "    </script>\n",
              "  </div>\n",
              "\n",
              "\n",
              "<div id=\"df-92bf773e-398e-4126-bcc1-f45e5df180d1\">\n",
              "  <button class=\"colab-df-quickchart\" onclick=\"quickchart('df-92bf773e-398e-4126-bcc1-f45e5df180d1')\"\n",
              "            title=\"Suggest charts\"\n",
              "            style=\"display:none;\">\n",
              "\n",
              "<svg xmlns=\"http://www.w3.org/2000/svg\" height=\"24px\"viewBox=\"0 0 24 24\"\n",
              "     width=\"24px\">\n",
              "    <g>\n",
              "        <path d=\"M19 3H5c-1.1 0-2 .9-2 2v14c0 1.1.9 2 2 2h14c1.1 0 2-.9 2-2V5c0-1.1-.9-2-2-2zM9 17H7v-7h2v7zm4 0h-2V7h2v10zm4 0h-2v-4h2v4z\"/>\n",
              "    </g>\n",
              "</svg>\n",
              "  </button>\n",
              "\n",
              "<style>\n",
              "  .colab-df-quickchart {\n",
              "      --bg-color: #E8F0FE;\n",
              "      --fill-color: #1967D2;\n",
              "      --hover-bg-color: #E2EBFA;\n",
              "      --hover-fill-color: #174EA6;\n",
              "      --disabled-fill-color: #AAA;\n",
              "      --disabled-bg-color: #DDD;\n",
              "  }\n",
              "\n",
              "  [theme=dark] .colab-df-quickchart {\n",
              "      --bg-color: #3B4455;\n",
              "      --fill-color: #D2E3FC;\n",
              "      --hover-bg-color: #434B5C;\n",
              "      --hover-fill-color: #FFFFFF;\n",
              "      --disabled-bg-color: #3B4455;\n",
              "      --disabled-fill-color: #666;\n",
              "  }\n",
              "\n",
              "  .colab-df-quickchart {\n",
              "    background-color: var(--bg-color);\n",
              "    border: none;\n",
              "    border-radius: 50%;\n",
              "    cursor: pointer;\n",
              "    display: none;\n",
              "    fill: var(--fill-color);\n",
              "    height: 32px;\n",
              "    padding: 0;\n",
              "    width: 32px;\n",
              "  }\n",
              "\n",
              "  .colab-df-quickchart:hover {\n",
              "    background-color: var(--hover-bg-color);\n",
              "    box-shadow: 0 1px 2px rgba(60, 64, 67, 0.3), 0 1px 3px 1px rgba(60, 64, 67, 0.15);\n",
              "    fill: var(--button-hover-fill-color);\n",
              "  }\n",
              "\n",
              "  .colab-df-quickchart-complete:disabled,\n",
              "  .colab-df-quickchart-complete:disabled:hover {\n",
              "    background-color: var(--disabled-bg-color);\n",
              "    fill: var(--disabled-fill-color);\n",
              "    box-shadow: none;\n",
              "  }\n",
              "\n",
              "  .colab-df-spinner {\n",
              "    border: 2px solid var(--fill-color);\n",
              "    border-color: transparent;\n",
              "    border-bottom-color: var(--fill-color);\n",
              "    animation:\n",
              "      spin 1s steps(1) infinite;\n",
              "  }\n",
              "\n",
              "  @keyframes spin {\n",
              "    0% {\n",
              "      border-color: transparent;\n",
              "      border-bottom-color: var(--fill-color);\n",
              "      border-left-color: var(--fill-color);\n",
              "    }\n",
              "    20% {\n",
              "      border-color: transparent;\n",
              "      border-left-color: var(--fill-color);\n",
              "      border-top-color: var(--fill-color);\n",
              "    }\n",
              "    30% {\n",
              "      border-color: transparent;\n",
              "      border-left-color: var(--fill-color);\n",
              "      border-top-color: var(--fill-color);\n",
              "      border-right-color: var(--fill-color);\n",
              "    }\n",
              "    40% {\n",
              "      border-color: transparent;\n",
              "      border-right-color: var(--fill-color);\n",
              "      border-top-color: var(--fill-color);\n",
              "    }\n",
              "    60% {\n",
              "      border-color: transparent;\n",
              "      border-right-color: var(--fill-color);\n",
              "    }\n",
              "    80% {\n",
              "      border-color: transparent;\n",
              "      border-right-color: var(--fill-color);\n",
              "      border-bottom-color: var(--fill-color);\n",
              "    }\n",
              "    90% {\n",
              "      border-color: transparent;\n",
              "      border-bottom-color: var(--fill-color);\n",
              "    }\n",
              "  }\n",
              "</style>\n",
              "\n",
              "  <script>\n",
              "    async function quickchart(key) {\n",
              "      const quickchartButtonEl =\n",
              "        document.querySelector('#' + key + ' button');\n",
              "      quickchartButtonEl.disabled = true;  // To prevent multiple clicks.\n",
              "      quickchartButtonEl.classList.add('colab-df-spinner');\n",
              "      try {\n",
              "        const charts = await google.colab.kernel.invokeFunction(\n",
              "            'suggestCharts', [key], {});\n",
              "      } catch (error) {\n",
              "        console.error('Error during call to suggestCharts:', error);\n",
              "      }\n",
              "      quickchartButtonEl.classList.remove('colab-df-spinner');\n",
              "      quickchartButtonEl.classList.add('colab-df-quickchart-complete');\n",
              "    }\n",
              "    (() => {\n",
              "      let quickchartButtonEl =\n",
              "        document.querySelector('#df-92bf773e-398e-4126-bcc1-f45e5df180d1 button');\n",
              "      quickchartButtonEl.style.display =\n",
              "        google.colab.kernel.accessAllowed ? 'block' : 'none';\n",
              "    })();\n",
              "  </script>\n",
              "</div>\n",
              "\n",
              "    </div>\n",
              "  </div>\n"
            ],
            "application/vnd.google.colaboratory.intrinsic+json": {
              "type": "dataframe",
              "variable_name": "df",
              "summary": "{\n  \"name\": \"df\",\n  \"rows\": 10000,\n  \"fields\": [\n    {\n      \"column\": \"RowNumber\",\n      \"properties\": {\n        \"dtype\": \"number\",\n        \"std\": 2886,\n        \"min\": 1,\n        \"max\": 10000,\n        \"num_unique_values\": 10000,\n        \"samples\": [\n          6253,\n          4685,\n          1732\n        ],\n        \"semantic_type\": \"\",\n        \"description\": \"\"\n      }\n    },\n    {\n      \"column\": \"CustomerId\",\n      \"properties\": {\n        \"dtype\": \"number\",\n        \"std\": 71936,\n        \"min\": 15565701,\n        \"max\": 15815690,\n        \"num_unique_values\": 10000,\n        \"samples\": [\n          15687492,\n          15736963,\n          15721730\n        ],\n        \"semantic_type\": \"\",\n        \"description\": \"\"\n      }\n    },\n    {\n      \"column\": \"Surname\",\n      \"properties\": {\n        \"dtype\": \"category\",\n        \"num_unique_values\": 2932,\n        \"samples\": [\n          \"McGuirk\",\n          \"Torkelson\",\n          \"Rapuluchukwu\"\n        ],\n        \"semantic_type\": \"\",\n        \"description\": \"\"\n      }\n    },\n    {\n      \"column\": \"CreditScore\",\n      \"properties\": {\n        \"dtype\": \"number\",\n        \"std\": 96,\n        \"min\": 350,\n        \"max\": 850,\n        \"num_unique_values\": 460,\n        \"samples\": [\n          754,\n          533,\n          744\n        ],\n        \"semantic_type\": \"\",\n        \"description\": \"\"\n      }\n    },\n    {\n      \"column\": \"Geography\",\n      \"properties\": {\n        \"dtype\": \"category\",\n        \"num_unique_values\": 3,\n        \"samples\": [\n          \"France\",\n          \"Spain\",\n          \"Germany\"\n        ],\n        \"semantic_type\": \"\",\n        \"description\": \"\"\n      }\n    },\n    {\n      \"column\": \"Gender\",\n      \"properties\": {\n        \"dtype\": \"category\",\n        \"num_unique_values\": 2,\n        \"samples\": [\n          \"Male\",\n          \"Female\"\n        ],\n        \"semantic_type\": \"\",\n        \"description\": \"\"\n      }\n    },\n    {\n      \"column\": \"Age\",\n      \"properties\": {\n        \"dtype\": \"number\",\n        \"std\": 10,\n        \"min\": 18,\n        \"max\": 92,\n        \"num_unique_values\": 70,\n        \"samples\": [\n          61,\n          42\n        ],\n        \"semantic_type\": \"\",\n        \"description\": \"\"\n      }\n    },\n    {\n      \"column\": \"Tenure\",\n      \"properties\": {\n        \"dtype\": \"number\",\n        \"std\": 2,\n        \"min\": 0,\n        \"max\": 10,\n        \"num_unique_values\": 11,\n        \"samples\": [\n          6,\n          2\n        ],\n        \"semantic_type\": \"\",\n        \"description\": \"\"\n      }\n    },\n    {\n      \"column\": \"Balance\",\n      \"properties\": {\n        \"dtype\": \"number\",\n        \"std\": 62397.405202385955,\n        \"min\": 0.0,\n        \"max\": 250898.09,\n        \"num_unique_values\": 6382,\n        \"samples\": [\n          117707.18,\n          133050.97\n        ],\n        \"semantic_type\": \"\",\n        \"description\": \"\"\n      }\n    },\n    {\n      \"column\": \"NumOfProducts\",\n      \"properties\": {\n        \"dtype\": \"number\",\n        \"std\": 0,\n        \"min\": 1,\n        \"max\": 4,\n        \"num_unique_values\": 4,\n        \"samples\": [\n          3,\n          4\n        ],\n        \"semantic_type\": \"\",\n        \"description\": \"\"\n      }\n    },\n    {\n      \"column\": \"HasCrCard\",\n      \"properties\": {\n        \"dtype\": \"number\",\n        \"std\": 0,\n        \"min\": 0,\n        \"max\": 1,\n        \"num_unique_values\": 2,\n        \"samples\": [\n          0,\n          1\n        ],\n        \"semantic_type\": \"\",\n        \"description\": \"\"\n      }\n    },\n    {\n      \"column\": \"IsActiveMember\",\n      \"properties\": {\n        \"dtype\": \"number\",\n        \"std\": 0,\n        \"min\": 0,\n        \"max\": 1,\n        \"num_unique_values\": 2,\n        \"samples\": [\n          0,\n          1\n        ],\n        \"semantic_type\": \"\",\n        \"description\": \"\"\n      }\n    },\n    {\n      \"column\": \"EstimatedSalary\",\n      \"properties\": {\n        \"dtype\": \"number\",\n        \"std\": 57510.49281769816,\n        \"min\": 11.58,\n        \"max\": 199992.48,\n        \"num_unique_values\": 9999,\n        \"samples\": [\n          100809.99,\n          95273.73\n        ],\n        \"semantic_type\": \"\",\n        \"description\": \"\"\n      }\n    },\n    {\n      \"column\": \"Exited\",\n      \"properties\": {\n        \"dtype\": \"number\",\n        \"std\": 0,\n        \"min\": 0,\n        \"max\": 1,\n        \"num_unique_values\": 2,\n        \"samples\": [\n          0,\n          1\n        ],\n        \"semantic_type\": \"\",\n        \"description\": \"\"\n      }\n    }\n  ]\n}"
            }
          },
          "metadata": {},
          "execution_count": 3
        }
      ]
    },
    {
      "cell_type": "code",
      "source": [
        "df.info()"
      ],
      "metadata": {
        "execution": {
          "iopub.status.busy": "2024-06-29T14:18:14.624816Z",
          "iopub.execute_input": "2024-06-29T14:18:14.625129Z",
          "iopub.status.idle": "2024-06-29T14:18:14.65316Z",
          "shell.execute_reply.started": "2024-06-29T14:18:14.625102Z",
          "shell.execute_reply": "2024-06-29T14:18:14.65194Z"
        },
        "trusted": true,
        "id": "inZQI6XwjgXD",
        "outputId": "c911036e-269f-4d98-d638-5f660f4491af",
        "colab": {
          "base_uri": "https://localhost:8080/"
        }
      },
      "execution_count": 4,
      "outputs": [
        {
          "output_type": "stream",
          "name": "stdout",
          "text": [
            "<class 'pandas.core.frame.DataFrame'>\n",
            "RangeIndex: 10000 entries, 0 to 9999\n",
            "Data columns (total 14 columns):\n",
            " #   Column           Non-Null Count  Dtype  \n",
            "---  ------           --------------  -----  \n",
            " 0   RowNumber        10000 non-null  int64  \n",
            " 1   CustomerId       10000 non-null  int64  \n",
            " 2   Surname          10000 non-null  object \n",
            " 3   CreditScore      10000 non-null  int64  \n",
            " 4   Geography        10000 non-null  object \n",
            " 5   Gender           10000 non-null  object \n",
            " 6   Age              10000 non-null  int64  \n",
            " 7   Tenure           10000 non-null  int64  \n",
            " 8   Balance          10000 non-null  float64\n",
            " 9   NumOfProducts    10000 non-null  int64  \n",
            " 10  HasCrCard        10000 non-null  int64  \n",
            " 11  IsActiveMember   10000 non-null  int64  \n",
            " 12  EstimatedSalary  10000 non-null  float64\n",
            " 13  Exited           10000 non-null  int64  \n",
            "dtypes: float64(2), int64(9), object(3)\n",
            "memory usage: 1.1+ MB\n"
          ]
        }
      ]
    },
    {
      "cell_type": "code",
      "source": [
        "df.duplicated().sum()"
      ],
      "metadata": {
        "execution": {
          "iopub.status.busy": "2024-06-29T14:18:14.658053Z",
          "iopub.execute_input": "2024-06-29T14:18:14.658577Z",
          "iopub.status.idle": "2024-06-29T14:18:14.674423Z",
          "shell.execute_reply.started": "2024-06-29T14:18:14.65854Z",
          "shell.execute_reply": "2024-06-29T14:18:14.673282Z"
        },
        "trusted": true,
        "id": "bMBmeAzmjgXD",
        "outputId": "8bec6504-7e18-4c39-d528-4a6439c6d114",
        "colab": {
          "base_uri": "https://localhost:8080/"
        }
      },
      "execution_count": 5,
      "outputs": [
        {
          "output_type": "execute_result",
          "data": {
            "text/plain": [
              "0"
            ]
          },
          "metadata": {},
          "execution_count": 5
        }
      ]
    },
    {
      "cell_type": "code",
      "source": [
        "df['Exited'].value_counts()"
      ],
      "metadata": {
        "execution": {
          "iopub.status.busy": "2024-06-29T14:18:14.675795Z",
          "iopub.execute_input": "2024-06-29T14:18:14.676211Z",
          "iopub.status.idle": "2024-06-29T14:18:14.687525Z",
          "shell.execute_reply.started": "2024-06-29T14:18:14.676173Z",
          "shell.execute_reply": "2024-06-29T14:18:14.686136Z"
        },
        "trusted": true,
        "id": "TvMjdIY2jgXD",
        "outputId": "d31efe75-a92b-42e1-bad1-2cfd66aa4d34",
        "colab": {
          "base_uri": "https://localhost:8080/"
        }
      },
      "execution_count": 6,
      "outputs": [
        {
          "output_type": "execute_result",
          "data": {
            "text/plain": [
              "Exited\n",
              "0    7963\n",
              "1    2037\n",
              "Name: count, dtype: int64"
            ]
          },
          "metadata": {},
          "execution_count": 6
        }
      ]
    },
    {
      "cell_type": "code",
      "source": [
        "df['Geography'].value_counts()"
      ],
      "metadata": {
        "execution": {
          "iopub.status.busy": "2024-06-29T14:18:14.689278Z",
          "iopub.execute_input": "2024-06-29T14:18:14.689771Z",
          "iopub.status.idle": "2024-06-29T14:18:14.702641Z",
          "shell.execute_reply.started": "2024-06-29T14:18:14.689728Z",
          "shell.execute_reply": "2024-06-29T14:18:14.701527Z"
        },
        "trusted": true,
        "id": "mJaLeqwFjgXE",
        "outputId": "6a5827fe-f49d-4b26-9d07-57bee8a333aa",
        "colab": {
          "base_uri": "https://localhost:8080/"
        }
      },
      "execution_count": 7,
      "outputs": [
        {
          "output_type": "execute_result",
          "data": {
            "text/plain": [
              "Geography\n",
              "France     5014\n",
              "Germany    2509\n",
              "Spain      2477\n",
              "Name: count, dtype: int64"
            ]
          },
          "metadata": {},
          "execution_count": 7
        }
      ]
    },
    {
      "cell_type": "code",
      "source": [
        "df['Gender'].value_counts()"
      ],
      "metadata": {
        "execution": {
          "iopub.status.busy": "2024-06-29T14:18:14.703965Z",
          "iopub.execute_input": "2024-06-29T14:18:14.70431Z",
          "iopub.status.idle": "2024-06-29T14:18:14.720306Z",
          "shell.execute_reply.started": "2024-06-29T14:18:14.704279Z",
          "shell.execute_reply": "2024-06-29T14:18:14.718836Z"
        },
        "trusted": true,
        "id": "xHWaLIAyjgXE",
        "outputId": "773b5b38-d732-43ad-e4ea-bb69a6aa7529",
        "colab": {
          "base_uri": "https://localhost:8080/"
        }
      },
      "execution_count": 8,
      "outputs": [
        {
          "output_type": "execute_result",
          "data": {
            "text/plain": [
              "Gender\n",
              "Male      5457\n",
              "Female    4543\n",
              "Name: count, dtype: int64"
            ]
          },
          "metadata": {},
          "execution_count": 8
        }
      ]
    },
    {
      "cell_type": "code",
      "source": [
        "df.drop(columns=['RowNumber','CustomerId','Surname'],inplace=True)\n",
        "df.head()"
      ],
      "metadata": {
        "execution": {
          "iopub.status.busy": "2024-06-29T14:18:14.722422Z",
          "iopub.execute_input": "2024-06-29T14:18:14.723012Z",
          "iopub.status.idle": "2024-06-29T14:18:14.745701Z",
          "shell.execute_reply.started": "2024-06-29T14:18:14.722971Z",
          "shell.execute_reply": "2024-06-29T14:18:14.744508Z"
        },
        "trusted": true,
        "id": "XXQ2DSJzjgXE",
        "outputId": "4241ad22-c894-4a9a-86ae-43c22fbae168",
        "colab": {
          "base_uri": "https://localhost:8080/",
          "height": 206
        }
      },
      "execution_count": 9,
      "outputs": [
        {
          "output_type": "execute_result",
          "data": {
            "text/plain": [
              "   CreditScore Geography  Gender  Age  Tenure    Balance  NumOfProducts  \\\n",
              "0          619    France  Female   42       2       0.00              1   \n",
              "1          608     Spain  Female   41       1   83807.86              1   \n",
              "2          502    France  Female   42       8  159660.80              3   \n",
              "3          699    France  Female   39       1       0.00              2   \n",
              "4          850     Spain  Female   43       2  125510.82              1   \n",
              "\n",
              "   HasCrCard  IsActiveMember  EstimatedSalary  Exited  \n",
              "0          1               1        101348.88       1  \n",
              "1          0               1        112542.58       0  \n",
              "2          1               0        113931.57       1  \n",
              "3          0               0         93826.63       0  \n",
              "4          1               1         79084.10       0  "
            ],
            "text/html": [
              "\n",
              "  <div id=\"df-aec4a19e-85d3-4fab-9118-6577c72801d3\" class=\"colab-df-container\">\n",
              "    <div>\n",
              "<style scoped>\n",
              "    .dataframe tbody tr th:only-of-type {\n",
              "        vertical-align: middle;\n",
              "    }\n",
              "\n",
              "    .dataframe tbody tr th {\n",
              "        vertical-align: top;\n",
              "    }\n",
              "\n",
              "    .dataframe thead th {\n",
              "        text-align: right;\n",
              "    }\n",
              "</style>\n",
              "<table border=\"1\" class=\"dataframe\">\n",
              "  <thead>\n",
              "    <tr style=\"text-align: right;\">\n",
              "      <th></th>\n",
              "      <th>CreditScore</th>\n",
              "      <th>Geography</th>\n",
              "      <th>Gender</th>\n",
              "      <th>Age</th>\n",
              "      <th>Tenure</th>\n",
              "      <th>Balance</th>\n",
              "      <th>NumOfProducts</th>\n",
              "      <th>HasCrCard</th>\n",
              "      <th>IsActiveMember</th>\n",
              "      <th>EstimatedSalary</th>\n",
              "      <th>Exited</th>\n",
              "    </tr>\n",
              "  </thead>\n",
              "  <tbody>\n",
              "    <tr>\n",
              "      <th>0</th>\n",
              "      <td>619</td>\n",
              "      <td>France</td>\n",
              "      <td>Female</td>\n",
              "      <td>42</td>\n",
              "      <td>2</td>\n",
              "      <td>0.00</td>\n",
              "      <td>1</td>\n",
              "      <td>1</td>\n",
              "      <td>1</td>\n",
              "      <td>101348.88</td>\n",
              "      <td>1</td>\n",
              "    </tr>\n",
              "    <tr>\n",
              "      <th>1</th>\n",
              "      <td>608</td>\n",
              "      <td>Spain</td>\n",
              "      <td>Female</td>\n",
              "      <td>41</td>\n",
              "      <td>1</td>\n",
              "      <td>83807.86</td>\n",
              "      <td>1</td>\n",
              "      <td>0</td>\n",
              "      <td>1</td>\n",
              "      <td>112542.58</td>\n",
              "      <td>0</td>\n",
              "    </tr>\n",
              "    <tr>\n",
              "      <th>2</th>\n",
              "      <td>502</td>\n",
              "      <td>France</td>\n",
              "      <td>Female</td>\n",
              "      <td>42</td>\n",
              "      <td>8</td>\n",
              "      <td>159660.80</td>\n",
              "      <td>3</td>\n",
              "      <td>1</td>\n",
              "      <td>0</td>\n",
              "      <td>113931.57</td>\n",
              "      <td>1</td>\n",
              "    </tr>\n",
              "    <tr>\n",
              "      <th>3</th>\n",
              "      <td>699</td>\n",
              "      <td>France</td>\n",
              "      <td>Female</td>\n",
              "      <td>39</td>\n",
              "      <td>1</td>\n",
              "      <td>0.00</td>\n",
              "      <td>2</td>\n",
              "      <td>0</td>\n",
              "      <td>0</td>\n",
              "      <td>93826.63</td>\n",
              "      <td>0</td>\n",
              "    </tr>\n",
              "    <tr>\n",
              "      <th>4</th>\n",
              "      <td>850</td>\n",
              "      <td>Spain</td>\n",
              "      <td>Female</td>\n",
              "      <td>43</td>\n",
              "      <td>2</td>\n",
              "      <td>125510.82</td>\n",
              "      <td>1</td>\n",
              "      <td>1</td>\n",
              "      <td>1</td>\n",
              "      <td>79084.10</td>\n",
              "      <td>0</td>\n",
              "    </tr>\n",
              "  </tbody>\n",
              "</table>\n",
              "</div>\n",
              "    <div class=\"colab-df-buttons\">\n",
              "\n",
              "  <div class=\"colab-df-container\">\n",
              "    <button class=\"colab-df-convert\" onclick=\"convertToInteractive('df-aec4a19e-85d3-4fab-9118-6577c72801d3')\"\n",
              "            title=\"Convert this dataframe to an interactive table.\"\n",
              "            style=\"display:none;\">\n",
              "\n",
              "  <svg xmlns=\"http://www.w3.org/2000/svg\" height=\"24px\" viewBox=\"0 -960 960 960\">\n",
              "    <path d=\"M120-120v-720h720v720H120Zm60-500h600v-160H180v160Zm220 220h160v-160H400v160Zm0 220h160v-160H400v160ZM180-400h160v-160H180v160Zm440 0h160v-160H620v160ZM180-180h160v-160H180v160Zm440 0h160v-160H620v160Z\"/>\n",
              "  </svg>\n",
              "    </button>\n",
              "\n",
              "  <style>\n",
              "    .colab-df-container {\n",
              "      display:flex;\n",
              "      gap: 12px;\n",
              "    }\n",
              "\n",
              "    .colab-df-convert {\n",
              "      background-color: #E8F0FE;\n",
              "      border: none;\n",
              "      border-radius: 50%;\n",
              "      cursor: pointer;\n",
              "      display: none;\n",
              "      fill: #1967D2;\n",
              "      height: 32px;\n",
              "      padding: 0 0 0 0;\n",
              "      width: 32px;\n",
              "    }\n",
              "\n",
              "    .colab-df-convert:hover {\n",
              "      background-color: #E2EBFA;\n",
              "      box-shadow: 0px 1px 2px rgba(60, 64, 67, 0.3), 0px 1px 3px 1px rgba(60, 64, 67, 0.15);\n",
              "      fill: #174EA6;\n",
              "    }\n",
              "\n",
              "    .colab-df-buttons div {\n",
              "      margin-bottom: 4px;\n",
              "    }\n",
              "\n",
              "    [theme=dark] .colab-df-convert {\n",
              "      background-color: #3B4455;\n",
              "      fill: #D2E3FC;\n",
              "    }\n",
              "\n",
              "    [theme=dark] .colab-df-convert:hover {\n",
              "      background-color: #434B5C;\n",
              "      box-shadow: 0px 1px 3px 1px rgba(0, 0, 0, 0.15);\n",
              "      filter: drop-shadow(0px 1px 2px rgba(0, 0, 0, 0.3));\n",
              "      fill: #FFFFFF;\n",
              "    }\n",
              "  </style>\n",
              "\n",
              "    <script>\n",
              "      const buttonEl =\n",
              "        document.querySelector('#df-aec4a19e-85d3-4fab-9118-6577c72801d3 button.colab-df-convert');\n",
              "      buttonEl.style.display =\n",
              "        google.colab.kernel.accessAllowed ? 'block' : 'none';\n",
              "\n",
              "      async function convertToInteractive(key) {\n",
              "        const element = document.querySelector('#df-aec4a19e-85d3-4fab-9118-6577c72801d3');\n",
              "        const dataTable =\n",
              "          await google.colab.kernel.invokeFunction('convertToInteractive',\n",
              "                                                    [key], {});\n",
              "        if (!dataTable) return;\n",
              "\n",
              "        const docLinkHtml = 'Like what you see? Visit the ' +\n",
              "          '<a target=\"_blank\" href=https://colab.research.google.com/notebooks/data_table.ipynb>data table notebook</a>'\n",
              "          + ' to learn more about interactive tables.';\n",
              "        element.innerHTML = '';\n",
              "        dataTable['output_type'] = 'display_data';\n",
              "        await google.colab.output.renderOutput(dataTable, element);\n",
              "        const docLink = document.createElement('div');\n",
              "        docLink.innerHTML = docLinkHtml;\n",
              "        element.appendChild(docLink);\n",
              "      }\n",
              "    </script>\n",
              "  </div>\n",
              "\n",
              "\n",
              "<div id=\"df-98866867-63f2-4e6f-ac80-beb8d5e10b70\">\n",
              "  <button class=\"colab-df-quickchart\" onclick=\"quickchart('df-98866867-63f2-4e6f-ac80-beb8d5e10b70')\"\n",
              "            title=\"Suggest charts\"\n",
              "            style=\"display:none;\">\n",
              "\n",
              "<svg xmlns=\"http://www.w3.org/2000/svg\" height=\"24px\"viewBox=\"0 0 24 24\"\n",
              "     width=\"24px\">\n",
              "    <g>\n",
              "        <path d=\"M19 3H5c-1.1 0-2 .9-2 2v14c0 1.1.9 2 2 2h14c1.1 0 2-.9 2-2V5c0-1.1-.9-2-2-2zM9 17H7v-7h2v7zm4 0h-2V7h2v10zm4 0h-2v-4h2v4z\"/>\n",
              "    </g>\n",
              "</svg>\n",
              "  </button>\n",
              "\n",
              "<style>\n",
              "  .colab-df-quickchart {\n",
              "      --bg-color: #E8F0FE;\n",
              "      --fill-color: #1967D2;\n",
              "      --hover-bg-color: #E2EBFA;\n",
              "      --hover-fill-color: #174EA6;\n",
              "      --disabled-fill-color: #AAA;\n",
              "      --disabled-bg-color: #DDD;\n",
              "  }\n",
              "\n",
              "  [theme=dark] .colab-df-quickchart {\n",
              "      --bg-color: #3B4455;\n",
              "      --fill-color: #D2E3FC;\n",
              "      --hover-bg-color: #434B5C;\n",
              "      --hover-fill-color: #FFFFFF;\n",
              "      --disabled-bg-color: #3B4455;\n",
              "      --disabled-fill-color: #666;\n",
              "  }\n",
              "\n",
              "  .colab-df-quickchart {\n",
              "    background-color: var(--bg-color);\n",
              "    border: none;\n",
              "    border-radius: 50%;\n",
              "    cursor: pointer;\n",
              "    display: none;\n",
              "    fill: var(--fill-color);\n",
              "    height: 32px;\n",
              "    padding: 0;\n",
              "    width: 32px;\n",
              "  }\n",
              "\n",
              "  .colab-df-quickchart:hover {\n",
              "    background-color: var(--hover-bg-color);\n",
              "    box-shadow: 0 1px 2px rgba(60, 64, 67, 0.3), 0 1px 3px 1px rgba(60, 64, 67, 0.15);\n",
              "    fill: var(--button-hover-fill-color);\n",
              "  }\n",
              "\n",
              "  .colab-df-quickchart-complete:disabled,\n",
              "  .colab-df-quickchart-complete:disabled:hover {\n",
              "    background-color: var(--disabled-bg-color);\n",
              "    fill: var(--disabled-fill-color);\n",
              "    box-shadow: none;\n",
              "  }\n",
              "\n",
              "  .colab-df-spinner {\n",
              "    border: 2px solid var(--fill-color);\n",
              "    border-color: transparent;\n",
              "    border-bottom-color: var(--fill-color);\n",
              "    animation:\n",
              "      spin 1s steps(1) infinite;\n",
              "  }\n",
              "\n",
              "  @keyframes spin {\n",
              "    0% {\n",
              "      border-color: transparent;\n",
              "      border-bottom-color: var(--fill-color);\n",
              "      border-left-color: var(--fill-color);\n",
              "    }\n",
              "    20% {\n",
              "      border-color: transparent;\n",
              "      border-left-color: var(--fill-color);\n",
              "      border-top-color: var(--fill-color);\n",
              "    }\n",
              "    30% {\n",
              "      border-color: transparent;\n",
              "      border-left-color: var(--fill-color);\n",
              "      border-top-color: var(--fill-color);\n",
              "      border-right-color: var(--fill-color);\n",
              "    }\n",
              "    40% {\n",
              "      border-color: transparent;\n",
              "      border-right-color: var(--fill-color);\n",
              "      border-top-color: var(--fill-color);\n",
              "    }\n",
              "    60% {\n",
              "      border-color: transparent;\n",
              "      border-right-color: var(--fill-color);\n",
              "    }\n",
              "    80% {\n",
              "      border-color: transparent;\n",
              "      border-right-color: var(--fill-color);\n",
              "      border-bottom-color: var(--fill-color);\n",
              "    }\n",
              "    90% {\n",
              "      border-color: transparent;\n",
              "      border-bottom-color: var(--fill-color);\n",
              "    }\n",
              "  }\n",
              "</style>\n",
              "\n",
              "  <script>\n",
              "    async function quickchart(key) {\n",
              "      const quickchartButtonEl =\n",
              "        document.querySelector('#' + key + ' button');\n",
              "      quickchartButtonEl.disabled = true;  // To prevent multiple clicks.\n",
              "      quickchartButtonEl.classList.add('colab-df-spinner');\n",
              "      try {\n",
              "        const charts = await google.colab.kernel.invokeFunction(\n",
              "            'suggestCharts', [key], {});\n",
              "      } catch (error) {\n",
              "        console.error('Error during call to suggestCharts:', error);\n",
              "      }\n",
              "      quickchartButtonEl.classList.remove('colab-df-spinner');\n",
              "      quickchartButtonEl.classList.add('colab-df-quickchart-complete');\n",
              "    }\n",
              "    (() => {\n",
              "      let quickchartButtonEl =\n",
              "        document.querySelector('#df-98866867-63f2-4e6f-ac80-beb8d5e10b70 button');\n",
              "      quickchartButtonEl.style.display =\n",
              "        google.colab.kernel.accessAllowed ? 'block' : 'none';\n",
              "    })();\n",
              "  </script>\n",
              "</div>\n",
              "\n",
              "    </div>\n",
              "  </div>\n"
            ],
            "application/vnd.google.colaboratory.intrinsic+json": {
              "type": "dataframe",
              "variable_name": "df",
              "summary": "{\n  \"name\": \"df\",\n  \"rows\": 10000,\n  \"fields\": [\n    {\n      \"column\": \"CreditScore\",\n      \"properties\": {\n        \"dtype\": \"number\",\n        \"std\": 96,\n        \"min\": 350,\n        \"max\": 850,\n        \"num_unique_values\": 460,\n        \"samples\": [\n          754,\n          533,\n          744\n        ],\n        \"semantic_type\": \"\",\n        \"description\": \"\"\n      }\n    },\n    {\n      \"column\": \"Geography\",\n      \"properties\": {\n        \"dtype\": \"category\",\n        \"num_unique_values\": 3,\n        \"samples\": [\n          \"France\",\n          \"Spain\",\n          \"Germany\"\n        ],\n        \"semantic_type\": \"\",\n        \"description\": \"\"\n      }\n    },\n    {\n      \"column\": \"Gender\",\n      \"properties\": {\n        \"dtype\": \"category\",\n        \"num_unique_values\": 2,\n        \"samples\": [\n          \"Male\",\n          \"Female\"\n        ],\n        \"semantic_type\": \"\",\n        \"description\": \"\"\n      }\n    },\n    {\n      \"column\": \"Age\",\n      \"properties\": {\n        \"dtype\": \"number\",\n        \"std\": 10,\n        \"min\": 18,\n        \"max\": 92,\n        \"num_unique_values\": 70,\n        \"samples\": [\n          61,\n          42\n        ],\n        \"semantic_type\": \"\",\n        \"description\": \"\"\n      }\n    },\n    {\n      \"column\": \"Tenure\",\n      \"properties\": {\n        \"dtype\": \"number\",\n        \"std\": 2,\n        \"min\": 0,\n        \"max\": 10,\n        \"num_unique_values\": 11,\n        \"samples\": [\n          6,\n          2\n        ],\n        \"semantic_type\": \"\",\n        \"description\": \"\"\n      }\n    },\n    {\n      \"column\": \"Balance\",\n      \"properties\": {\n        \"dtype\": \"number\",\n        \"std\": 62397.405202385955,\n        \"min\": 0.0,\n        \"max\": 250898.09,\n        \"num_unique_values\": 6382,\n        \"samples\": [\n          117707.18,\n          133050.97\n        ],\n        \"semantic_type\": \"\",\n        \"description\": \"\"\n      }\n    },\n    {\n      \"column\": \"NumOfProducts\",\n      \"properties\": {\n        \"dtype\": \"number\",\n        \"std\": 0,\n        \"min\": 1,\n        \"max\": 4,\n        \"num_unique_values\": 4,\n        \"samples\": [\n          3,\n          4\n        ],\n        \"semantic_type\": \"\",\n        \"description\": \"\"\n      }\n    },\n    {\n      \"column\": \"HasCrCard\",\n      \"properties\": {\n        \"dtype\": \"number\",\n        \"std\": 0,\n        \"min\": 0,\n        \"max\": 1,\n        \"num_unique_values\": 2,\n        \"samples\": [\n          0,\n          1\n        ],\n        \"semantic_type\": \"\",\n        \"description\": \"\"\n      }\n    },\n    {\n      \"column\": \"IsActiveMember\",\n      \"properties\": {\n        \"dtype\": \"number\",\n        \"std\": 0,\n        \"min\": 0,\n        \"max\": 1,\n        \"num_unique_values\": 2,\n        \"samples\": [\n          0,\n          1\n        ],\n        \"semantic_type\": \"\",\n        \"description\": \"\"\n      }\n    },\n    {\n      \"column\": \"EstimatedSalary\",\n      \"properties\": {\n        \"dtype\": \"number\",\n        \"std\": 57510.49281769816,\n        \"min\": 11.58,\n        \"max\": 199992.48,\n        \"num_unique_values\": 9999,\n        \"samples\": [\n          100809.99,\n          95273.73\n        ],\n        \"semantic_type\": \"\",\n        \"description\": \"\"\n      }\n    },\n    {\n      \"column\": \"Exited\",\n      \"properties\": {\n        \"dtype\": \"number\",\n        \"std\": 0,\n        \"min\": 0,\n        \"max\": 1,\n        \"num_unique_values\": 2,\n        \"samples\": [\n          0,\n          1\n        ],\n        \"semantic_type\": \"\",\n        \"description\": \"\"\n      }\n    }\n  ]\n}"
            }
          },
          "metadata": {},
          "execution_count": 9
        }
      ]
    },
    {
      "cell_type": "code",
      "source": [
        "df =pd.get_dummies(df,columns=['Geography','Gender'],drop_first=True)\n"
      ],
      "metadata": {
        "execution": {
          "iopub.status.busy": "2024-06-29T14:18:14.747086Z",
          "iopub.execute_input": "2024-06-29T14:18:14.747513Z",
          "iopub.status.idle": "2024-06-29T14:18:14.759599Z",
          "shell.execute_reply.started": "2024-06-29T14:18:14.747474Z",
          "shell.execute_reply": "2024-06-29T14:18:14.75854Z"
        },
        "trusted": true,
        "id": "w5McqIY0jgXF"
      },
      "execution_count": 10,
      "outputs": []
    },
    {
      "cell_type": "code",
      "source": [
        "df.head()"
      ],
      "metadata": {
        "execution": {
          "iopub.status.busy": "2024-06-29T14:18:14.763723Z",
          "iopub.execute_input": "2024-06-29T14:18:14.764367Z",
          "iopub.status.idle": "2024-06-29T14:18:14.78171Z",
          "shell.execute_reply.started": "2024-06-29T14:18:14.764333Z",
          "shell.execute_reply": "2024-06-29T14:18:14.780479Z"
        },
        "trusted": true,
        "id": "0CzViByOjgXF",
        "outputId": "756935da-5c47-48a6-e9d6-c3af853e897a",
        "colab": {
          "base_uri": "https://localhost:8080/",
          "height": 206
        }
      },
      "execution_count": 11,
      "outputs": [
        {
          "output_type": "execute_result",
          "data": {
            "text/plain": [
              "   CreditScore  Age  Tenure    Balance  NumOfProducts  HasCrCard  \\\n",
              "0          619   42       2       0.00              1          1   \n",
              "1          608   41       1   83807.86              1          0   \n",
              "2          502   42       8  159660.80              3          1   \n",
              "3          699   39       1       0.00              2          0   \n",
              "4          850   43       2  125510.82              1          1   \n",
              "\n",
              "   IsActiveMember  EstimatedSalary  Exited  Geography_Germany  \\\n",
              "0               1        101348.88       1              False   \n",
              "1               1        112542.58       0              False   \n",
              "2               0        113931.57       1              False   \n",
              "3               0         93826.63       0              False   \n",
              "4               1         79084.10       0              False   \n",
              "\n",
              "   Geography_Spain  Gender_Male  \n",
              "0            False        False  \n",
              "1             True        False  \n",
              "2            False        False  \n",
              "3            False        False  \n",
              "4             True        False  "
            ],
            "text/html": [
              "\n",
              "  <div id=\"df-933778bf-3a88-4f6c-b69a-c44535f7b6ff\" class=\"colab-df-container\">\n",
              "    <div>\n",
              "<style scoped>\n",
              "    .dataframe tbody tr th:only-of-type {\n",
              "        vertical-align: middle;\n",
              "    }\n",
              "\n",
              "    .dataframe tbody tr th {\n",
              "        vertical-align: top;\n",
              "    }\n",
              "\n",
              "    .dataframe thead th {\n",
              "        text-align: right;\n",
              "    }\n",
              "</style>\n",
              "<table border=\"1\" class=\"dataframe\">\n",
              "  <thead>\n",
              "    <tr style=\"text-align: right;\">\n",
              "      <th></th>\n",
              "      <th>CreditScore</th>\n",
              "      <th>Age</th>\n",
              "      <th>Tenure</th>\n",
              "      <th>Balance</th>\n",
              "      <th>NumOfProducts</th>\n",
              "      <th>HasCrCard</th>\n",
              "      <th>IsActiveMember</th>\n",
              "      <th>EstimatedSalary</th>\n",
              "      <th>Exited</th>\n",
              "      <th>Geography_Germany</th>\n",
              "      <th>Geography_Spain</th>\n",
              "      <th>Gender_Male</th>\n",
              "    </tr>\n",
              "  </thead>\n",
              "  <tbody>\n",
              "    <tr>\n",
              "      <th>0</th>\n",
              "      <td>619</td>\n",
              "      <td>42</td>\n",
              "      <td>2</td>\n",
              "      <td>0.00</td>\n",
              "      <td>1</td>\n",
              "      <td>1</td>\n",
              "      <td>1</td>\n",
              "      <td>101348.88</td>\n",
              "      <td>1</td>\n",
              "      <td>False</td>\n",
              "      <td>False</td>\n",
              "      <td>False</td>\n",
              "    </tr>\n",
              "    <tr>\n",
              "      <th>1</th>\n",
              "      <td>608</td>\n",
              "      <td>41</td>\n",
              "      <td>1</td>\n",
              "      <td>83807.86</td>\n",
              "      <td>1</td>\n",
              "      <td>0</td>\n",
              "      <td>1</td>\n",
              "      <td>112542.58</td>\n",
              "      <td>0</td>\n",
              "      <td>False</td>\n",
              "      <td>True</td>\n",
              "      <td>False</td>\n",
              "    </tr>\n",
              "    <tr>\n",
              "      <th>2</th>\n",
              "      <td>502</td>\n",
              "      <td>42</td>\n",
              "      <td>8</td>\n",
              "      <td>159660.80</td>\n",
              "      <td>3</td>\n",
              "      <td>1</td>\n",
              "      <td>0</td>\n",
              "      <td>113931.57</td>\n",
              "      <td>1</td>\n",
              "      <td>False</td>\n",
              "      <td>False</td>\n",
              "      <td>False</td>\n",
              "    </tr>\n",
              "    <tr>\n",
              "      <th>3</th>\n",
              "      <td>699</td>\n",
              "      <td>39</td>\n",
              "      <td>1</td>\n",
              "      <td>0.00</td>\n",
              "      <td>2</td>\n",
              "      <td>0</td>\n",
              "      <td>0</td>\n",
              "      <td>93826.63</td>\n",
              "      <td>0</td>\n",
              "      <td>False</td>\n",
              "      <td>False</td>\n",
              "      <td>False</td>\n",
              "    </tr>\n",
              "    <tr>\n",
              "      <th>4</th>\n",
              "      <td>850</td>\n",
              "      <td>43</td>\n",
              "      <td>2</td>\n",
              "      <td>125510.82</td>\n",
              "      <td>1</td>\n",
              "      <td>1</td>\n",
              "      <td>1</td>\n",
              "      <td>79084.10</td>\n",
              "      <td>0</td>\n",
              "      <td>False</td>\n",
              "      <td>True</td>\n",
              "      <td>False</td>\n",
              "    </tr>\n",
              "  </tbody>\n",
              "</table>\n",
              "</div>\n",
              "    <div class=\"colab-df-buttons\">\n",
              "\n",
              "  <div class=\"colab-df-container\">\n",
              "    <button class=\"colab-df-convert\" onclick=\"convertToInteractive('df-933778bf-3a88-4f6c-b69a-c44535f7b6ff')\"\n",
              "            title=\"Convert this dataframe to an interactive table.\"\n",
              "            style=\"display:none;\">\n",
              "\n",
              "  <svg xmlns=\"http://www.w3.org/2000/svg\" height=\"24px\" viewBox=\"0 -960 960 960\">\n",
              "    <path d=\"M120-120v-720h720v720H120Zm60-500h600v-160H180v160Zm220 220h160v-160H400v160Zm0 220h160v-160H400v160ZM180-400h160v-160H180v160Zm440 0h160v-160H620v160ZM180-180h160v-160H180v160Zm440 0h160v-160H620v160Z\"/>\n",
              "  </svg>\n",
              "    </button>\n",
              "\n",
              "  <style>\n",
              "    .colab-df-container {\n",
              "      display:flex;\n",
              "      gap: 12px;\n",
              "    }\n",
              "\n",
              "    .colab-df-convert {\n",
              "      background-color: #E8F0FE;\n",
              "      border: none;\n",
              "      border-radius: 50%;\n",
              "      cursor: pointer;\n",
              "      display: none;\n",
              "      fill: #1967D2;\n",
              "      height: 32px;\n",
              "      padding: 0 0 0 0;\n",
              "      width: 32px;\n",
              "    }\n",
              "\n",
              "    .colab-df-convert:hover {\n",
              "      background-color: #E2EBFA;\n",
              "      box-shadow: 0px 1px 2px rgba(60, 64, 67, 0.3), 0px 1px 3px 1px rgba(60, 64, 67, 0.15);\n",
              "      fill: #174EA6;\n",
              "    }\n",
              "\n",
              "    .colab-df-buttons div {\n",
              "      margin-bottom: 4px;\n",
              "    }\n",
              "\n",
              "    [theme=dark] .colab-df-convert {\n",
              "      background-color: #3B4455;\n",
              "      fill: #D2E3FC;\n",
              "    }\n",
              "\n",
              "    [theme=dark] .colab-df-convert:hover {\n",
              "      background-color: #434B5C;\n",
              "      box-shadow: 0px 1px 3px 1px rgba(0, 0, 0, 0.15);\n",
              "      filter: drop-shadow(0px 1px 2px rgba(0, 0, 0, 0.3));\n",
              "      fill: #FFFFFF;\n",
              "    }\n",
              "  </style>\n",
              "\n",
              "    <script>\n",
              "      const buttonEl =\n",
              "        document.querySelector('#df-933778bf-3a88-4f6c-b69a-c44535f7b6ff button.colab-df-convert');\n",
              "      buttonEl.style.display =\n",
              "        google.colab.kernel.accessAllowed ? 'block' : 'none';\n",
              "\n",
              "      async function convertToInteractive(key) {\n",
              "        const element = document.querySelector('#df-933778bf-3a88-4f6c-b69a-c44535f7b6ff');\n",
              "        const dataTable =\n",
              "          await google.colab.kernel.invokeFunction('convertToInteractive',\n",
              "                                                    [key], {});\n",
              "        if (!dataTable) return;\n",
              "\n",
              "        const docLinkHtml = 'Like what you see? Visit the ' +\n",
              "          '<a target=\"_blank\" href=https://colab.research.google.com/notebooks/data_table.ipynb>data table notebook</a>'\n",
              "          + ' to learn more about interactive tables.';\n",
              "        element.innerHTML = '';\n",
              "        dataTable['output_type'] = 'display_data';\n",
              "        await google.colab.output.renderOutput(dataTable, element);\n",
              "        const docLink = document.createElement('div');\n",
              "        docLink.innerHTML = docLinkHtml;\n",
              "        element.appendChild(docLink);\n",
              "      }\n",
              "    </script>\n",
              "  </div>\n",
              "\n",
              "\n",
              "<div id=\"df-71107641-7bbf-4cc7-8654-b131a6b30c3b\">\n",
              "  <button class=\"colab-df-quickchart\" onclick=\"quickchart('df-71107641-7bbf-4cc7-8654-b131a6b30c3b')\"\n",
              "            title=\"Suggest charts\"\n",
              "            style=\"display:none;\">\n",
              "\n",
              "<svg xmlns=\"http://www.w3.org/2000/svg\" height=\"24px\"viewBox=\"0 0 24 24\"\n",
              "     width=\"24px\">\n",
              "    <g>\n",
              "        <path d=\"M19 3H5c-1.1 0-2 .9-2 2v14c0 1.1.9 2 2 2h14c1.1 0 2-.9 2-2V5c0-1.1-.9-2-2-2zM9 17H7v-7h2v7zm4 0h-2V7h2v10zm4 0h-2v-4h2v4z\"/>\n",
              "    </g>\n",
              "</svg>\n",
              "  </button>\n",
              "\n",
              "<style>\n",
              "  .colab-df-quickchart {\n",
              "      --bg-color: #E8F0FE;\n",
              "      --fill-color: #1967D2;\n",
              "      --hover-bg-color: #E2EBFA;\n",
              "      --hover-fill-color: #174EA6;\n",
              "      --disabled-fill-color: #AAA;\n",
              "      --disabled-bg-color: #DDD;\n",
              "  }\n",
              "\n",
              "  [theme=dark] .colab-df-quickchart {\n",
              "      --bg-color: #3B4455;\n",
              "      --fill-color: #D2E3FC;\n",
              "      --hover-bg-color: #434B5C;\n",
              "      --hover-fill-color: #FFFFFF;\n",
              "      --disabled-bg-color: #3B4455;\n",
              "      --disabled-fill-color: #666;\n",
              "  }\n",
              "\n",
              "  .colab-df-quickchart {\n",
              "    background-color: var(--bg-color);\n",
              "    border: none;\n",
              "    border-radius: 50%;\n",
              "    cursor: pointer;\n",
              "    display: none;\n",
              "    fill: var(--fill-color);\n",
              "    height: 32px;\n",
              "    padding: 0;\n",
              "    width: 32px;\n",
              "  }\n",
              "\n",
              "  .colab-df-quickchart:hover {\n",
              "    background-color: var(--hover-bg-color);\n",
              "    box-shadow: 0 1px 2px rgba(60, 64, 67, 0.3), 0 1px 3px 1px rgba(60, 64, 67, 0.15);\n",
              "    fill: var(--button-hover-fill-color);\n",
              "  }\n",
              "\n",
              "  .colab-df-quickchart-complete:disabled,\n",
              "  .colab-df-quickchart-complete:disabled:hover {\n",
              "    background-color: var(--disabled-bg-color);\n",
              "    fill: var(--disabled-fill-color);\n",
              "    box-shadow: none;\n",
              "  }\n",
              "\n",
              "  .colab-df-spinner {\n",
              "    border: 2px solid var(--fill-color);\n",
              "    border-color: transparent;\n",
              "    border-bottom-color: var(--fill-color);\n",
              "    animation:\n",
              "      spin 1s steps(1) infinite;\n",
              "  }\n",
              "\n",
              "  @keyframes spin {\n",
              "    0% {\n",
              "      border-color: transparent;\n",
              "      border-bottom-color: var(--fill-color);\n",
              "      border-left-color: var(--fill-color);\n",
              "    }\n",
              "    20% {\n",
              "      border-color: transparent;\n",
              "      border-left-color: var(--fill-color);\n",
              "      border-top-color: var(--fill-color);\n",
              "    }\n",
              "    30% {\n",
              "      border-color: transparent;\n",
              "      border-left-color: var(--fill-color);\n",
              "      border-top-color: var(--fill-color);\n",
              "      border-right-color: var(--fill-color);\n",
              "    }\n",
              "    40% {\n",
              "      border-color: transparent;\n",
              "      border-right-color: var(--fill-color);\n",
              "      border-top-color: var(--fill-color);\n",
              "    }\n",
              "    60% {\n",
              "      border-color: transparent;\n",
              "      border-right-color: var(--fill-color);\n",
              "    }\n",
              "    80% {\n",
              "      border-color: transparent;\n",
              "      border-right-color: var(--fill-color);\n",
              "      border-bottom-color: var(--fill-color);\n",
              "    }\n",
              "    90% {\n",
              "      border-color: transparent;\n",
              "      border-bottom-color: var(--fill-color);\n",
              "    }\n",
              "  }\n",
              "</style>\n",
              "\n",
              "  <script>\n",
              "    async function quickchart(key) {\n",
              "      const quickchartButtonEl =\n",
              "        document.querySelector('#' + key + ' button');\n",
              "      quickchartButtonEl.disabled = true;  // To prevent multiple clicks.\n",
              "      quickchartButtonEl.classList.add('colab-df-spinner');\n",
              "      try {\n",
              "        const charts = await google.colab.kernel.invokeFunction(\n",
              "            'suggestCharts', [key], {});\n",
              "      } catch (error) {\n",
              "        console.error('Error during call to suggestCharts:', error);\n",
              "      }\n",
              "      quickchartButtonEl.classList.remove('colab-df-spinner');\n",
              "      quickchartButtonEl.classList.add('colab-df-quickchart-complete');\n",
              "    }\n",
              "    (() => {\n",
              "      let quickchartButtonEl =\n",
              "        document.querySelector('#df-71107641-7bbf-4cc7-8654-b131a6b30c3b button');\n",
              "      quickchartButtonEl.style.display =\n",
              "        google.colab.kernel.accessAllowed ? 'block' : 'none';\n",
              "    })();\n",
              "  </script>\n",
              "</div>\n",
              "\n",
              "    </div>\n",
              "  </div>\n"
            ],
            "application/vnd.google.colaboratory.intrinsic+json": {
              "type": "dataframe",
              "variable_name": "df",
              "summary": "{\n  \"name\": \"df\",\n  \"rows\": 10000,\n  \"fields\": [\n    {\n      \"column\": \"CreditScore\",\n      \"properties\": {\n        \"dtype\": \"number\",\n        \"std\": 96,\n        \"min\": 350,\n        \"max\": 850,\n        \"num_unique_values\": 460,\n        \"samples\": [\n          754,\n          533,\n          744\n        ],\n        \"semantic_type\": \"\",\n        \"description\": \"\"\n      }\n    },\n    {\n      \"column\": \"Age\",\n      \"properties\": {\n        \"dtype\": \"number\",\n        \"std\": 10,\n        \"min\": 18,\n        \"max\": 92,\n        \"num_unique_values\": 70,\n        \"samples\": [\n          61,\n          42,\n          59\n        ],\n        \"semantic_type\": \"\",\n        \"description\": \"\"\n      }\n    },\n    {\n      \"column\": \"Tenure\",\n      \"properties\": {\n        \"dtype\": \"number\",\n        \"std\": 2,\n        \"min\": 0,\n        \"max\": 10,\n        \"num_unique_values\": 11,\n        \"samples\": [\n          6,\n          2,\n          9\n        ],\n        \"semantic_type\": \"\",\n        \"description\": \"\"\n      }\n    },\n    {\n      \"column\": \"Balance\",\n      \"properties\": {\n        \"dtype\": \"number\",\n        \"std\": 62397.405202385955,\n        \"min\": 0.0,\n        \"max\": 250898.09,\n        \"num_unique_values\": 6382,\n        \"samples\": [\n          117707.18,\n          133050.97,\n          124271.26\n        ],\n        \"semantic_type\": \"\",\n        \"description\": \"\"\n      }\n    },\n    {\n      \"column\": \"NumOfProducts\",\n      \"properties\": {\n        \"dtype\": \"number\",\n        \"std\": 0,\n        \"min\": 1,\n        \"max\": 4,\n        \"num_unique_values\": 4,\n        \"samples\": [\n          3,\n          4,\n          1\n        ],\n        \"semantic_type\": \"\",\n        \"description\": \"\"\n      }\n    },\n    {\n      \"column\": \"HasCrCard\",\n      \"properties\": {\n        \"dtype\": \"number\",\n        \"std\": 0,\n        \"min\": 0,\n        \"max\": 1,\n        \"num_unique_values\": 2,\n        \"samples\": [\n          0,\n          1\n        ],\n        \"semantic_type\": \"\",\n        \"description\": \"\"\n      }\n    },\n    {\n      \"column\": \"IsActiveMember\",\n      \"properties\": {\n        \"dtype\": \"number\",\n        \"std\": 0,\n        \"min\": 0,\n        \"max\": 1,\n        \"num_unique_values\": 2,\n        \"samples\": [\n          0,\n          1\n        ],\n        \"semantic_type\": \"\",\n        \"description\": \"\"\n      }\n    },\n    {\n      \"column\": \"EstimatedSalary\",\n      \"properties\": {\n        \"dtype\": \"number\",\n        \"std\": 57510.49281769816,\n        \"min\": 11.58,\n        \"max\": 199992.48,\n        \"num_unique_values\": 9999,\n        \"samples\": [\n          100809.99,\n          95273.73\n        ],\n        \"semantic_type\": \"\",\n        \"description\": \"\"\n      }\n    },\n    {\n      \"column\": \"Exited\",\n      \"properties\": {\n        \"dtype\": \"number\",\n        \"std\": 0,\n        \"min\": 0,\n        \"max\": 1,\n        \"num_unique_values\": 2,\n        \"samples\": [\n          0,\n          1\n        ],\n        \"semantic_type\": \"\",\n        \"description\": \"\"\n      }\n    },\n    {\n      \"column\": \"Geography_Germany\",\n      \"properties\": {\n        \"dtype\": \"boolean\",\n        \"num_unique_values\": 2,\n        \"samples\": [\n          true,\n          false\n        ],\n        \"semantic_type\": \"\",\n        \"description\": \"\"\n      }\n    },\n    {\n      \"column\": \"Geography_Spain\",\n      \"properties\": {\n        \"dtype\": \"boolean\",\n        \"num_unique_values\": 2,\n        \"samples\": [\n          true,\n          false\n        ],\n        \"semantic_type\": \"\",\n        \"description\": \"\"\n      }\n    },\n    {\n      \"column\": \"Gender_Male\",\n      \"properties\": {\n        \"dtype\": \"boolean\",\n        \"num_unique_values\": 2,\n        \"samples\": [\n          true,\n          false\n        ],\n        \"semantic_type\": \"\",\n        \"description\": \"\"\n      }\n    }\n  ]\n}"
            }
          },
          "metadata": {},
          "execution_count": 11
        }
      ]
    },
    {
      "cell_type": "code",
      "source": [
        "from sklearn.model_selection import train_test_split\n",
        "X_train,X_test,y_train,y_test=train_test_split(df.drop(columns=['Exited']),df['Exited'],test_size=0.2,random_state=42)"
      ],
      "metadata": {
        "execution": {
          "iopub.status.busy": "2024-06-29T14:18:14.783161Z",
          "iopub.execute_input": "2024-06-29T14:18:14.783679Z",
          "iopub.status.idle": "2024-06-29T14:18:15.511292Z",
          "shell.execute_reply.started": "2024-06-29T14:18:14.783642Z",
          "shell.execute_reply": "2024-06-29T14:18:15.509886Z"
        },
        "trusted": true,
        "id": "k-mjlFKIjgXF"
      },
      "execution_count": 12,
      "outputs": []
    },
    {
      "cell_type": "code",
      "source": [
        "X_train.shape\n"
      ],
      "metadata": {
        "execution": {
          "iopub.status.busy": "2024-06-29T14:18:15.512897Z",
          "iopub.execute_input": "2024-06-29T14:18:15.513272Z",
          "iopub.status.idle": "2024-06-29T14:18:15.52083Z",
          "shell.execute_reply.started": "2024-06-29T14:18:15.513238Z",
          "shell.execute_reply": "2024-06-29T14:18:15.519476Z"
        },
        "trusted": true,
        "id": "2ZQrWmoJjgXF",
        "outputId": "5781a6b3-191e-4d45-e0f7-b3b6dc2d397b",
        "colab": {
          "base_uri": "https://localhost:8080/"
        }
      },
      "execution_count": 13,
      "outputs": [
        {
          "output_type": "execute_result",
          "data": {
            "text/plain": [
              "(8000, 11)"
            ]
          },
          "metadata": {},
          "execution_count": 13
        }
      ]
    },
    {
      "cell_type": "code",
      "source": [
        "from sklearn.preprocessing import StandardScaler\n",
        "scaler = StandardScaler()\n",
        "\n",
        "X_train_scaled=scaler.fit_transform(X_train)\n",
        "X_test_scaled=scaler.transform(X_test)"
      ],
      "metadata": {
        "execution": {
          "iopub.status.busy": "2024-06-29T14:18:15.522532Z",
          "iopub.execute_input": "2024-06-29T14:18:15.523002Z",
          "iopub.status.idle": "2024-06-29T14:18:15.545257Z",
          "shell.execute_reply.started": "2024-06-29T14:18:15.522962Z",
          "shell.execute_reply": "2024-06-29T14:18:15.543866Z"
        },
        "trusted": true,
        "id": "hlL19lQMjgXF"
      },
      "execution_count": 14,
      "outputs": []
    },
    {
      "cell_type": "code",
      "source": [
        "X_train_scaled"
      ],
      "metadata": {
        "execution": {
          "iopub.status.busy": "2024-06-29T14:18:15.546908Z",
          "iopub.execute_input": "2024-06-29T14:18:15.547278Z",
          "iopub.status.idle": "2024-06-29T14:18:15.555491Z",
          "shell.execute_reply.started": "2024-06-29T14:18:15.547245Z",
          "shell.execute_reply": "2024-06-29T14:18:15.554302Z"
        },
        "trusted": true,
        "id": "pOGa26BJjgXG",
        "outputId": "d83e8d97-30bb-4661-9a9b-451194c557f0",
        "colab": {
          "base_uri": "https://localhost:8080/"
        }
      },
      "execution_count": 15,
      "outputs": [
        {
          "output_type": "execute_result",
          "data": {
            "text/plain": [
              "array([[ 0.35649971, -0.6557859 ,  0.34567966, ..., -0.57946723,\n",
              "        -0.57638802,  0.91324755],\n",
              "       [-0.20389777,  0.29493847, -0.3483691 , ...,  1.72572313,\n",
              "        -0.57638802,  0.91324755],\n",
              "       [-0.96147213, -1.41636539, -0.69539349, ..., -0.57946723,\n",
              "         1.73494238,  0.91324755],\n",
              "       ...,\n",
              "       [ 0.86500853, -0.08535128, -1.38944225, ..., -0.57946723,\n",
              "        -0.57638802, -1.09499335],\n",
              "       [ 0.15932282,  0.3900109 ,  1.03972843, ..., -0.57946723,\n",
              "        -0.57638802,  0.91324755],\n",
              "       [ 0.47065475,  1.15059039, -1.38944225, ...,  1.72572313,\n",
              "        -0.57638802,  0.91324755]])"
            ]
          },
          "metadata": {},
          "execution_count": 15
        }
      ]
    },
    {
      "cell_type": "code",
      "source": [
        "import tensorflow\n",
        "from tensorflow import keras\n",
        "from tensorflow.keras import Sequential\n",
        "from tensorflow.keras.layers import Dense"
      ],
      "metadata": {
        "execution": {
          "iopub.status.busy": "2024-06-29T14:18:15.556957Z",
          "iopub.execute_input": "2024-06-29T14:18:15.557299Z",
          "iopub.status.idle": "2024-06-29T14:18:30.727614Z",
          "shell.execute_reply.started": "2024-06-29T14:18:15.557268Z",
          "shell.execute_reply": "2024-06-29T14:18:30.72639Z"
        },
        "trusted": true,
        "id": "IfioOSbfjgXG"
      },
      "execution_count": 16,
      "outputs": []
    },
    {
      "cell_type": "code",
      "source": [
        "model = Sequential()\n",
        "model.add(Dense(3,activation='sigmoid',input_dim=11))\n",
        "model.add(Dense(1,activation='sigmoid'))\n"
      ],
      "metadata": {
        "execution": {
          "iopub.status.busy": "2024-06-29T14:20:45.000125Z",
          "iopub.execute_input": "2024-06-29T14:20:45.000567Z",
          "iopub.status.idle": "2024-06-29T14:20:45.080316Z",
          "shell.execute_reply.started": "2024-06-29T14:20:45.000531Z",
          "shell.execute_reply": "2024-06-29T14:20:45.079154Z"
        },
        "trusted": true,
        "id": "XUD_4K7CjgXG"
      },
      "execution_count": 17,
      "outputs": []
    },
    {
      "cell_type": "code",
      "source": [
        "model.summary()"
      ],
      "metadata": {
        "execution": {
          "iopub.status.busy": "2024-06-29T14:20:53.156903Z",
          "iopub.execute_input": "2024-06-29T14:20:53.157292Z",
          "iopub.status.idle": "2024-06-29T14:20:53.178986Z",
          "shell.execute_reply.started": "2024-06-29T14:20:53.157264Z",
          "shell.execute_reply": "2024-06-29T14:20:53.177818Z"
        },
        "trusted": true,
        "id": "aSLfXac2jgXG",
        "outputId": "e6993053-f770-4f9a-e214-c9468bc799ea",
        "colab": {
          "base_uri": "https://localhost:8080/"
        }
      },
      "execution_count": 18,
      "outputs": [
        {
          "output_type": "stream",
          "name": "stdout",
          "text": [
            "Model: \"sequential\"\n",
            "_________________________________________________________________\n",
            " Layer (type)                Output Shape              Param #   \n",
            "=================================================================\n",
            " dense (Dense)               (None, 3)                 36        \n",
            "                                                                 \n",
            " dense_1 (Dense)             (None, 1)                 4         \n",
            "                                                                 \n",
            "=================================================================\n",
            "Total params: 40 (160.00 Byte)\n",
            "Trainable params: 40 (160.00 Byte)\n",
            "Non-trainable params: 0 (0.00 Byte)\n",
            "_________________________________________________________________\n"
          ]
        }
      ]
    },
    {
      "cell_type": "code",
      "source": [
        "model.compile(loss='binary_crossentropy',optimizer='Adam')\n"
      ],
      "metadata": {
        "execution": {
          "iopub.status.busy": "2024-06-29T14:25:34.86317Z",
          "iopub.execute_input": "2024-06-29T14:25:34.863937Z",
          "iopub.status.idle": "2024-06-29T14:25:34.880369Z",
          "shell.execute_reply.started": "2024-06-29T14:25:34.863897Z",
          "shell.execute_reply": "2024-06-29T14:25:34.879268Z"
        },
        "trusted": true,
        "id": "h1Qu7NpUjgXG"
      },
      "execution_count": 19,
      "outputs": []
    },
    {
      "cell_type": "code",
      "source": [
        "model.fit(X_train_scaled,y_train,epochs=10)"
      ],
      "metadata": {
        "execution": {
          "iopub.status.busy": "2024-06-29T14:26:48.358416Z",
          "iopub.execute_input": "2024-06-29T14:26:48.358842Z",
          "iopub.status.idle": "2024-06-29T14:26:53.248009Z",
          "shell.execute_reply.started": "2024-06-29T14:26:48.35881Z",
          "shell.execute_reply": "2024-06-29T14:26:53.246771Z"
        },
        "trusted": true,
        "id": "QRvYCj-njgXG",
        "outputId": "cb5f6380-91fe-4c26-e9b9-9f60be06f445",
        "colab": {
          "base_uri": "https://localhost:8080/"
        }
      },
      "execution_count": 20,
      "outputs": [
        {
          "output_type": "stream",
          "name": "stdout",
          "text": [
            "Epoch 1/10\n",
            "250/250 [==============================] - 1s 2ms/step - loss: 0.5077\n",
            "Epoch 2/10\n",
            "250/250 [==============================] - 0s 2ms/step - loss: 0.4826\n",
            "Epoch 3/10\n",
            "250/250 [==============================] - 1s 2ms/step - loss: 0.4666\n",
            "Epoch 4/10\n",
            "250/250 [==============================] - 0s 2ms/step - loss: 0.4553\n",
            "Epoch 5/10\n",
            "250/250 [==============================] - 1s 2ms/step - loss: 0.4471\n",
            "Epoch 6/10\n",
            "250/250 [==============================] - 0s 2ms/step - loss: 0.4412\n",
            "Epoch 7/10\n",
            "250/250 [==============================] - 0s 2ms/step - loss: 0.4368\n",
            "Epoch 8/10\n",
            "250/250 [==============================] - 1s 2ms/step - loss: 0.4337\n",
            "Epoch 9/10\n",
            "250/250 [==============================] - 1s 3ms/step - loss: 0.4312\n",
            "Epoch 10/10\n",
            "250/250 [==============================] - 1s 3ms/step - loss: 0.4292\n"
          ]
        },
        {
          "output_type": "execute_result",
          "data": {
            "text/plain": [
              "<keras.src.callbacks.History at 0x7f2d7009f940>"
            ]
          },
          "metadata": {},
          "execution_count": 20
        }
      ]
    },
    {
      "cell_type": "code",
      "source": [
        "model.layers[0].get_weights()"
      ],
      "metadata": {
        "execution": {
          "iopub.status.busy": "2024-06-29T14:27:53.693748Z",
          "iopub.execute_input": "2024-06-29T14:27:53.694259Z",
          "iopub.status.idle": "2024-06-29T14:27:53.712795Z",
          "shell.execute_reply.started": "2024-06-29T14:27:53.694214Z",
          "shell.execute_reply": "2024-06-29T14:27:53.711501Z"
        },
        "trusted": true,
        "id": "u5GeUbjNjgXG",
        "outputId": "341e8d31-9661-4d7a-fff3-beee24b381a7",
        "colab": {
          "base_uri": "https://localhost:8080/"
        }
      },
      "execution_count": 21,
      "outputs": [
        {
          "output_type": "execute_result",
          "data": {
            "text/plain": [
              "[array([[ 3.4768900e-01, -2.3352565e-01,  1.9022465e-01],\n",
              "        [-4.5510921e-01, -2.2317085e+00, -1.0719308e+00],\n",
              "        [-1.1898766e-01,  3.1308216e-01, -4.1318208e-02],\n",
              "        [ 2.4076324e-02, -4.6607420e-01, -2.6407295e-01],\n",
              "        [ 1.8720536e-02,  3.0747725e-02,  1.2192828e-01],\n",
              "        [-4.6029694e-02, -2.6107517e-01,  2.1831295e-01],\n",
              "        [ 1.0867409e+00,  3.9789128e-01,  4.5473957e-01],\n",
              "        [-6.9329955e-02,  3.3092719e-02, -2.0278112e-03],\n",
              "        [-5.9885436e-01, -1.6882171e-01, -6.2885487e-01],\n",
              "        [-1.6222054e-01, -4.1245499e-01,  2.3550583e-01],\n",
              "        [ 5.7523757e-01,  3.6330047e-01,  3.6036220e-01]], dtype=float32),\n",
              " array([-0.00320691,  0.13972132,  0.04675029], dtype=float32)]"
            ]
          },
          "metadata": {},
          "execution_count": 21
        }
      ]
    },
    {
      "cell_type": "code",
      "source": [
        "model.layers[1].get_weights()"
      ],
      "metadata": {
        "execution": {
          "iopub.status.busy": "2024-06-29T14:28:20.400844Z",
          "iopub.execute_input": "2024-06-29T14:28:20.401258Z",
          "iopub.status.idle": "2024-06-29T14:28:20.412156Z",
          "shell.execute_reply.started": "2024-06-29T14:28:20.401225Z",
          "shell.execute_reply": "2024-06-29T14:28:20.410765Z"
        },
        "trusted": true,
        "id": "k2SFtB2QjgXG",
        "outputId": "dc8a2fc4-ea90-4ac3-bc40-b551bb12c540",
        "colab": {
          "base_uri": "https://localhost:8080/"
        }
      },
      "execution_count": 25,
      "outputs": [
        {
          "output_type": "execute_result",
          "data": {
            "text/plain": [
              "[array([[-0.860163 ],\n",
              "        [-1.0901338],\n",
              "        [-1.5133181]], dtype=float32),\n",
              " array([0.17131016], dtype=float32)]"
            ]
          },
          "metadata": {},
          "execution_count": 25
        }
      ]
    },
    {
      "cell_type": "code",
      "source": [
        "y_log = model.predict(X_test_scaled)"
      ],
      "metadata": {
        "execution": {
          "iopub.status.busy": "2024-06-29T14:29:41.802864Z",
          "iopub.execute_input": "2024-06-29T14:29:41.803837Z",
          "iopub.status.idle": "2024-06-29T14:29:41.97546Z",
          "shell.execute_reply.started": "2024-06-29T14:29:41.803798Z",
          "shell.execute_reply": "2024-06-29T14:29:41.974155Z"
        },
        "trusted": true,
        "id": "LOhApIXTjgXG",
        "outputId": "46ebe375-ae95-471e-8f12-42859b3a8eef",
        "colab": {
          "base_uri": "https://localhost:8080/"
        }
      },
      "execution_count": 26,
      "outputs": [
        {
          "output_type": "stream",
          "name": "stdout",
          "text": [
            "63/63 [==============================] - 1s 6ms/step\n"
          ]
        }
      ]
    },
    {
      "cell_type": "code",
      "source": [
        "y_pred = np.where(y_log>0.5,1,0)"
      ],
      "metadata": {
        "execution": {
          "iopub.status.busy": "2024-06-29T14:30:08.537901Z",
          "iopub.execute_input": "2024-06-29T14:30:08.538314Z",
          "iopub.status.idle": "2024-06-29T14:30:08.544863Z",
          "shell.execute_reply.started": "2024-06-29T14:30:08.53828Z",
          "shell.execute_reply": "2024-06-29T14:30:08.543198Z"
        },
        "trusted": true,
        "id": "B4Rg0R9xjgXG"
      },
      "execution_count": 27,
      "outputs": []
    },
    {
      "cell_type": "code",
      "source": [
        "from sklearn.metrics import accuracy_score\n"
      ],
      "metadata": {
        "execution": {
          "iopub.status.busy": "2024-06-29T14:30:42.006816Z",
          "iopub.execute_input": "2024-06-29T14:30:42.007219Z",
          "iopub.status.idle": "2024-06-29T14:30:42.012475Z",
          "shell.execute_reply.started": "2024-06-29T14:30:42.007191Z",
          "shell.execute_reply": "2024-06-29T14:30:42.011165Z"
        },
        "trusted": true,
        "id": "HXY131emjgXG"
      },
      "execution_count": 28,
      "outputs": []
    },
    {
      "cell_type": "code",
      "source": [
        "accuracy_score(y_test,y_pred)"
      ],
      "metadata": {
        "execution": {
          "iopub.status.busy": "2024-06-29T14:31:16.79227Z",
          "iopub.execute_input": "2024-06-29T14:31:16.79274Z",
          "iopub.status.idle": "2024-06-29T14:31:16.803816Z",
          "shell.execute_reply.started": "2024-06-29T14:31:16.792705Z",
          "shell.execute_reply": "2024-06-29T14:31:16.802776Z"
        },
        "trusted": true,
        "id": "vnWugz0bjgXG",
        "outputId": "f17aff67-d19d-49d3-9154-2e1b674a7ba3",
        "colab": {
          "base_uri": "https://localhost:8080/"
        }
      },
      "execution_count": 29,
      "outputs": [
        {
          "output_type": "execute_result",
          "data": {
            "text/plain": [
              "0.816"
            ]
          },
          "metadata": {},
          "execution_count": 29
        }
      ]
    },
    {
      "cell_type": "code",
      "source": [
        "#We can increase the number of epoch for better output.\n",
        "#We can change the activation function to relu for better output.\n",
        "#We can increase the number of nodes in the hidden layer.\n"
      ],
      "metadata": {
        "execution": {
          "iopub.status.busy": "2024-06-29T14:34:25.132829Z",
          "iopub.execute_input": "2024-06-29T14:34:25.133827Z",
          "iopub.status.idle": "2024-06-29T14:34:25.139097Z",
          "shell.execute_reply.started": "2024-06-29T14:34:25.133775Z",
          "shell.execute_reply": "2024-06-29T14:34:25.137796Z"
        },
        "trusted": true,
        "id": "rYghVgoyjgXG"
      },
      "execution_count": 30,
      "outputs": []
    },
    {
      "cell_type": "code",
      "source": [
        "model2 = Sequential()"
      ],
      "metadata": {
        "execution": {
          "iopub.status.busy": "2024-06-29T14:34:35.004375Z",
          "iopub.execute_input": "2024-06-29T14:34:35.004819Z",
          "iopub.status.idle": "2024-06-29T14:34:35.012045Z",
          "shell.execute_reply.started": "2024-06-29T14:34:35.004786Z",
          "shell.execute_reply": "2024-06-29T14:34:35.010613Z"
        },
        "trusted": true,
        "id": "VNnYQf8pjgXH"
      },
      "execution_count": 31,
      "outputs": []
    },
    {
      "cell_type": "code",
      "source": [
        "model2.add(Dense(11,activation='relu',input_dim=11))\n",
        "model2.add(Dense(11,activation='relu'))\n",
        "model2.add(Dense(1,activation='sigmoid'))\n"
      ],
      "metadata": {
        "execution": {
          "iopub.status.busy": "2024-06-29T15:00:24.90807Z",
          "iopub.execute_input": "2024-06-29T15:00:24.908507Z",
          "iopub.status.idle": "2024-06-29T15:00:24.955251Z",
          "shell.execute_reply.started": "2024-06-29T15:00:24.908453Z",
          "shell.execute_reply": "2024-06-29T15:00:24.953888Z"
        },
        "trusted": true,
        "id": "LmueODnxjgXH"
      },
      "execution_count": 32,
      "outputs": []
    },
    {
      "cell_type": "code",
      "source": [
        "model2.summary()"
      ],
      "metadata": {
        "execution": {
          "iopub.status.busy": "2024-06-29T15:00:25.982901Z",
          "iopub.execute_input": "2024-06-29T15:00:25.983273Z",
          "iopub.status.idle": "2024-06-29T15:00:26.009093Z",
          "shell.execute_reply.started": "2024-06-29T15:00:25.983244Z",
          "shell.execute_reply": "2024-06-29T15:00:26.008067Z"
        },
        "trusted": true,
        "id": "4nIvzZLxjgXH",
        "outputId": "baae5446-8bd8-48d0-df09-77b435daa899",
        "colab": {
          "base_uri": "https://localhost:8080/"
        }
      },
      "execution_count": 33,
      "outputs": [
        {
          "output_type": "stream",
          "name": "stdout",
          "text": [
            "Model: \"sequential_1\"\n",
            "_________________________________________________________________\n",
            " Layer (type)                Output Shape              Param #   \n",
            "=================================================================\n",
            " dense_2 (Dense)             (None, 11)                132       \n",
            "                                                                 \n",
            " dense_3 (Dense)             (None, 11)                132       \n",
            "                                                                 \n",
            " dense_4 (Dense)             (None, 1)                 12        \n",
            "                                                                 \n",
            "=================================================================\n",
            "Total params: 276 (1.08 KB)\n",
            "Trainable params: 276 (1.08 KB)\n",
            "Non-trainable params: 0 (0.00 Byte)\n",
            "_________________________________________________________________\n"
          ]
        }
      ]
    },
    {
      "cell_type": "code",
      "source": [
        "model2.compile(loss='binary_crossentropy',optimizer='Adam',metrics=['accuracy'])"
      ],
      "metadata": {
        "execution": {
          "iopub.status.busy": "2024-06-29T15:00:29.872324Z",
          "iopub.execute_input": "2024-06-29T15:00:29.872881Z",
          "iopub.status.idle": "2024-06-29T15:00:29.885217Z",
          "shell.execute_reply.started": "2024-06-29T15:00:29.87284Z",
          "shell.execute_reply": "2024-06-29T15:00:29.88397Z"
        },
        "trusted": true,
        "id": "nfV9TEp1jgXH"
      },
      "execution_count": 34,
      "outputs": []
    },
    {
      "cell_type": "code",
      "source": [
        "history = model2.fit(X_train_scaled,y_train,epochs=100,validation_split=0.2)\n",
        "#Our training as well as validation accuracy should increase.\n",
        "#It is overfitting if training accuracy increases but validation accuracy decreases."
      ],
      "metadata": {
        "execution": {
          "iopub.status.busy": "2024-06-29T15:00:38.682563Z",
          "iopub.execute_input": "2024-06-29T15:00:38.682975Z",
          "iopub.status.idle": "2024-06-29T15:01:25.301719Z",
          "shell.execute_reply.started": "2024-06-29T15:00:38.682944Z",
          "shell.execute_reply": "2024-06-29T15:01:25.300293Z"
        },
        "trusted": true,
        "id": "MEJYgKRZjgXH",
        "outputId": "10d7b3e5-b32a-42bc-c4ad-6b41b8e3dc4e",
        "colab": {
          "base_uri": "https://localhost:8080/"
        }
      },
      "execution_count": 35,
      "outputs": [
        {
          "output_type": "stream",
          "name": "stdout",
          "text": [
            "Epoch 1/100\n",
            "200/200 [==============================] - 2s 4ms/step - loss: 0.5681 - accuracy: 0.7333 - val_loss: 0.4905 - val_accuracy: 0.7987\n",
            "Epoch 2/100\n",
            "200/200 [==============================] - 1s 4ms/step - loss: 0.4775 - accuracy: 0.7955 - val_loss: 0.4498 - val_accuracy: 0.8019\n",
            "Epoch 3/100\n",
            "200/200 [==============================] - 1s 4ms/step - loss: 0.4503 - accuracy: 0.8009 - val_loss: 0.4265 - val_accuracy: 0.8181\n",
            "Epoch 4/100\n",
            "200/200 [==============================] - 1s 4ms/step - loss: 0.4333 - accuracy: 0.8147 - val_loss: 0.4135 - val_accuracy: 0.8244\n",
            "Epoch 5/100\n",
            "200/200 [==============================] - 1s 4ms/step - loss: 0.4230 - accuracy: 0.8198 - val_loss: 0.4053 - val_accuracy: 0.8294\n",
            "Epoch 6/100\n",
            "200/200 [==============================] - 0s 2ms/step - loss: 0.4145 - accuracy: 0.8263 - val_loss: 0.3986 - val_accuracy: 0.8313\n",
            "Epoch 7/100\n",
            "200/200 [==============================] - 1s 3ms/step - loss: 0.4050 - accuracy: 0.8292 - val_loss: 0.3911 - val_accuracy: 0.8375\n",
            "Epoch 8/100\n",
            "200/200 [==============================] - 0s 2ms/step - loss: 0.3939 - accuracy: 0.8345 - val_loss: 0.3820 - val_accuracy: 0.8425\n",
            "Epoch 9/100\n",
            "200/200 [==============================] - 1s 3ms/step - loss: 0.3813 - accuracy: 0.8419 - val_loss: 0.3733 - val_accuracy: 0.8525\n",
            "Epoch 10/100\n",
            "200/200 [==============================] - 1s 3ms/step - loss: 0.3705 - accuracy: 0.8494 - val_loss: 0.3654 - val_accuracy: 0.8500\n",
            "Epoch 11/100\n",
            "200/200 [==============================] - 1s 3ms/step - loss: 0.3618 - accuracy: 0.8530 - val_loss: 0.3614 - val_accuracy: 0.8500\n",
            "Epoch 12/100\n",
            "200/200 [==============================] - 0s 2ms/step - loss: 0.3558 - accuracy: 0.8547 - val_loss: 0.3568 - val_accuracy: 0.8512\n",
            "Epoch 13/100\n",
            "200/200 [==============================] - 0s 2ms/step - loss: 0.3508 - accuracy: 0.8558 - val_loss: 0.3548 - val_accuracy: 0.8487\n",
            "Epoch 14/100\n",
            "200/200 [==============================] - 0s 2ms/step - loss: 0.3476 - accuracy: 0.8562 - val_loss: 0.3527 - val_accuracy: 0.8506\n",
            "Epoch 15/100\n",
            "200/200 [==============================] - 1s 4ms/step - loss: 0.3443 - accuracy: 0.8580 - val_loss: 0.3522 - val_accuracy: 0.8519\n",
            "Epoch 16/100\n",
            "200/200 [==============================] - 1s 4ms/step - loss: 0.3419 - accuracy: 0.8581 - val_loss: 0.3518 - val_accuracy: 0.8500\n",
            "Epoch 17/100\n",
            "200/200 [==============================] - 1s 3ms/step - loss: 0.3395 - accuracy: 0.8581 - val_loss: 0.3496 - val_accuracy: 0.8550\n",
            "Epoch 18/100\n",
            "200/200 [==============================] - 1s 4ms/step - loss: 0.3385 - accuracy: 0.8583 - val_loss: 0.3496 - val_accuracy: 0.8544\n",
            "Epoch 19/100\n",
            "200/200 [==============================] - 1s 3ms/step - loss: 0.3362 - accuracy: 0.8597 - val_loss: 0.3509 - val_accuracy: 0.8575\n",
            "Epoch 20/100\n",
            "200/200 [==============================] - 1s 3ms/step - loss: 0.3356 - accuracy: 0.8616 - val_loss: 0.3477 - val_accuracy: 0.8575\n",
            "Epoch 21/100\n",
            "200/200 [==============================] - 1s 3ms/step - loss: 0.3341 - accuracy: 0.8623 - val_loss: 0.3486 - val_accuracy: 0.8550\n",
            "Epoch 22/100\n",
            "200/200 [==============================] - 1s 3ms/step - loss: 0.3332 - accuracy: 0.8620 - val_loss: 0.3475 - val_accuracy: 0.8556\n",
            "Epoch 23/100\n",
            "200/200 [==============================] - 1s 5ms/step - loss: 0.3326 - accuracy: 0.8625 - val_loss: 0.3477 - val_accuracy: 0.8550\n",
            "Epoch 24/100\n",
            "200/200 [==============================] - 1s 4ms/step - loss: 0.3322 - accuracy: 0.8634 - val_loss: 0.3466 - val_accuracy: 0.8562\n",
            "Epoch 25/100\n",
            "200/200 [==============================] - 1s 5ms/step - loss: 0.3311 - accuracy: 0.8639 - val_loss: 0.3466 - val_accuracy: 0.8556\n",
            "Epoch 26/100\n",
            "200/200 [==============================] - 1s 5ms/step - loss: 0.3310 - accuracy: 0.8634 - val_loss: 0.3466 - val_accuracy: 0.8550\n",
            "Epoch 27/100\n",
            "200/200 [==============================] - 1s 4ms/step - loss: 0.3302 - accuracy: 0.8637 - val_loss: 0.3457 - val_accuracy: 0.8550\n",
            "Epoch 28/100\n",
            "200/200 [==============================] - 1s 3ms/step - loss: 0.3298 - accuracy: 0.8617 - val_loss: 0.3480 - val_accuracy: 0.8562\n",
            "Epoch 29/100\n",
            "200/200 [==============================] - 0s 2ms/step - loss: 0.3290 - accuracy: 0.8627 - val_loss: 0.3495 - val_accuracy: 0.8575\n",
            "Epoch 30/100\n",
            "200/200 [==============================] - 1s 3ms/step - loss: 0.3292 - accuracy: 0.8634 - val_loss: 0.3459 - val_accuracy: 0.8550\n",
            "Epoch 31/100\n",
            "200/200 [==============================] - 1s 3ms/step - loss: 0.3280 - accuracy: 0.8645 - val_loss: 0.3458 - val_accuracy: 0.8512\n",
            "Epoch 32/100\n",
            "200/200 [==============================] - 1s 3ms/step - loss: 0.3274 - accuracy: 0.8641 - val_loss: 0.3462 - val_accuracy: 0.8575\n",
            "Epoch 33/100\n",
            "200/200 [==============================] - 0s 2ms/step - loss: 0.3275 - accuracy: 0.8647 - val_loss: 0.3450 - val_accuracy: 0.8519\n",
            "Epoch 34/100\n",
            "200/200 [==============================] - 1s 3ms/step - loss: 0.3269 - accuracy: 0.8666 - val_loss: 0.3451 - val_accuracy: 0.8537\n",
            "Epoch 35/100\n",
            "200/200 [==============================] - 0s 2ms/step - loss: 0.3263 - accuracy: 0.8667 - val_loss: 0.3450 - val_accuracy: 0.8575\n",
            "Epoch 36/100\n",
            "200/200 [==============================] - 1s 3ms/step - loss: 0.3260 - accuracy: 0.8672 - val_loss: 0.3454 - val_accuracy: 0.8581\n",
            "Epoch 37/100\n",
            "200/200 [==============================] - 0s 2ms/step - loss: 0.3258 - accuracy: 0.8641 - val_loss: 0.3452 - val_accuracy: 0.8606\n",
            "Epoch 38/100\n",
            "200/200 [==============================] - 1s 5ms/step - loss: 0.3254 - accuracy: 0.8658 - val_loss: 0.3452 - val_accuracy: 0.8587\n",
            "Epoch 39/100\n",
            "200/200 [==============================] - 0s 2ms/step - loss: 0.3247 - accuracy: 0.8670 - val_loss: 0.3454 - val_accuracy: 0.8581\n",
            "Epoch 40/100\n",
            "200/200 [==============================] - 0s 2ms/step - loss: 0.3245 - accuracy: 0.8667 - val_loss: 0.3440 - val_accuracy: 0.8544\n",
            "Epoch 41/100\n",
            "200/200 [==============================] - 1s 3ms/step - loss: 0.3242 - accuracy: 0.8667 - val_loss: 0.3465 - val_accuracy: 0.8619\n",
            "Epoch 42/100\n",
            "200/200 [==============================] - 1s 3ms/step - loss: 0.3242 - accuracy: 0.8673 - val_loss: 0.3452 - val_accuracy: 0.8562\n",
            "Epoch 43/100\n",
            "200/200 [==============================] - 0s 2ms/step - loss: 0.3237 - accuracy: 0.8664 - val_loss: 0.3442 - val_accuracy: 0.8587\n",
            "Epoch 44/100\n",
            "200/200 [==============================] - 1s 3ms/step - loss: 0.3232 - accuracy: 0.8667 - val_loss: 0.3433 - val_accuracy: 0.8544\n",
            "Epoch 45/100\n",
            "200/200 [==============================] - 1s 4ms/step - loss: 0.3231 - accuracy: 0.8678 - val_loss: 0.3445 - val_accuracy: 0.8569\n",
            "Epoch 46/100\n",
            "200/200 [==============================] - 1s 4ms/step - loss: 0.3224 - accuracy: 0.8666 - val_loss: 0.3449 - val_accuracy: 0.8581\n",
            "Epoch 47/100\n",
            "200/200 [==============================] - 1s 4ms/step - loss: 0.3223 - accuracy: 0.8677 - val_loss: 0.3442 - val_accuracy: 0.8556\n",
            "Epoch 48/100\n",
            "200/200 [==============================] - 1s 4ms/step - loss: 0.3225 - accuracy: 0.8655 - val_loss: 0.3439 - val_accuracy: 0.8581\n",
            "Epoch 49/100\n",
            "200/200 [==============================] - 1s 3ms/step - loss: 0.3221 - accuracy: 0.8670 - val_loss: 0.3447 - val_accuracy: 0.8581\n",
            "Epoch 50/100\n",
            "200/200 [==============================] - 0s 2ms/step - loss: 0.3214 - accuracy: 0.8675 - val_loss: 0.3445 - val_accuracy: 0.8575\n",
            "Epoch 51/100\n",
            "200/200 [==============================] - 1s 3ms/step - loss: 0.3212 - accuracy: 0.8661 - val_loss: 0.3455 - val_accuracy: 0.8537\n",
            "Epoch 52/100\n",
            "200/200 [==============================] - 1s 3ms/step - loss: 0.3209 - accuracy: 0.8673 - val_loss: 0.3445 - val_accuracy: 0.8575\n",
            "Epoch 53/100\n",
            "200/200 [==============================] - 1s 3ms/step - loss: 0.3209 - accuracy: 0.8680 - val_loss: 0.3456 - val_accuracy: 0.8581\n",
            "Epoch 54/100\n",
            "200/200 [==============================] - 0s 2ms/step - loss: 0.3203 - accuracy: 0.8681 - val_loss: 0.3450 - val_accuracy: 0.8569\n",
            "Epoch 55/100\n",
            "200/200 [==============================] - 1s 3ms/step - loss: 0.3198 - accuracy: 0.8677 - val_loss: 0.3474 - val_accuracy: 0.8575\n",
            "Epoch 56/100\n",
            "200/200 [==============================] - 0s 2ms/step - loss: 0.3200 - accuracy: 0.8675 - val_loss: 0.3462 - val_accuracy: 0.8531\n",
            "Epoch 57/100\n",
            "200/200 [==============================] - 0s 2ms/step - loss: 0.3200 - accuracy: 0.8678 - val_loss: 0.3456 - val_accuracy: 0.8569\n",
            "Epoch 58/100\n",
            "200/200 [==============================] - 1s 3ms/step - loss: 0.3195 - accuracy: 0.8683 - val_loss: 0.3451 - val_accuracy: 0.8569\n",
            "Epoch 59/100\n",
            "200/200 [==============================] - 1s 3ms/step - loss: 0.3191 - accuracy: 0.8686 - val_loss: 0.3459 - val_accuracy: 0.8562\n",
            "Epoch 60/100\n",
            "200/200 [==============================] - 1s 3ms/step - loss: 0.3187 - accuracy: 0.8683 - val_loss: 0.3465 - val_accuracy: 0.8519\n",
            "Epoch 61/100\n",
            "200/200 [==============================] - 1s 3ms/step - loss: 0.3188 - accuracy: 0.8683 - val_loss: 0.3462 - val_accuracy: 0.8544\n",
            "Epoch 62/100\n",
            "200/200 [==============================] - 1s 3ms/step - loss: 0.3189 - accuracy: 0.8706 - val_loss: 0.3463 - val_accuracy: 0.8544\n",
            "Epoch 63/100\n",
            "200/200 [==============================] - 1s 3ms/step - loss: 0.3184 - accuracy: 0.8678 - val_loss: 0.3491 - val_accuracy: 0.8556\n",
            "Epoch 64/100\n",
            "200/200 [==============================] - 1s 3ms/step - loss: 0.3182 - accuracy: 0.8698 - val_loss: 0.3449 - val_accuracy: 0.8562\n",
            "Epoch 65/100\n",
            "200/200 [==============================] - 1s 4ms/step - loss: 0.3178 - accuracy: 0.8706 - val_loss: 0.3448 - val_accuracy: 0.8556\n",
            "Epoch 66/100\n",
            "200/200 [==============================] - 1s 4ms/step - loss: 0.3181 - accuracy: 0.8689 - val_loss: 0.3465 - val_accuracy: 0.8569\n",
            "Epoch 67/100\n",
            "200/200 [==============================] - 1s 4ms/step - loss: 0.3176 - accuracy: 0.8697 - val_loss: 0.3440 - val_accuracy: 0.8556\n",
            "Epoch 68/100\n",
            "200/200 [==============================] - 1s 5ms/step - loss: 0.3177 - accuracy: 0.8703 - val_loss: 0.3463 - val_accuracy: 0.8556\n",
            "Epoch 69/100\n",
            "200/200 [==============================] - 1s 5ms/step - loss: 0.3176 - accuracy: 0.8691 - val_loss: 0.3477 - val_accuracy: 0.8562\n",
            "Epoch 70/100\n",
            "200/200 [==============================] - 1s 6ms/step - loss: 0.3177 - accuracy: 0.8700 - val_loss: 0.3477 - val_accuracy: 0.8581\n",
            "Epoch 71/100\n",
            "200/200 [==============================] - 1s 6ms/step - loss: 0.3169 - accuracy: 0.8675 - val_loss: 0.3462 - val_accuracy: 0.8569\n",
            "Epoch 72/100\n",
            "200/200 [==============================] - 1s 5ms/step - loss: 0.3168 - accuracy: 0.8691 - val_loss: 0.3467 - val_accuracy: 0.8575\n",
            "Epoch 73/100\n",
            "200/200 [==============================] - 1s 4ms/step - loss: 0.3167 - accuracy: 0.8687 - val_loss: 0.3466 - val_accuracy: 0.8581\n",
            "Epoch 74/100\n",
            "200/200 [==============================] - 1s 6ms/step - loss: 0.3161 - accuracy: 0.8692 - val_loss: 0.3468 - val_accuracy: 0.8544\n",
            "Epoch 75/100\n",
            "200/200 [==============================] - 1s 5ms/step - loss: 0.3168 - accuracy: 0.8709 - val_loss: 0.3457 - val_accuracy: 0.8575\n",
            "Epoch 76/100\n",
            "200/200 [==============================] - 1s 4ms/step - loss: 0.3164 - accuracy: 0.8700 - val_loss: 0.3467 - val_accuracy: 0.8550\n",
            "Epoch 77/100\n",
            "200/200 [==============================] - 1s 3ms/step - loss: 0.3162 - accuracy: 0.8702 - val_loss: 0.3463 - val_accuracy: 0.8537\n",
            "Epoch 78/100\n",
            "200/200 [==============================] - 1s 3ms/step - loss: 0.3168 - accuracy: 0.8694 - val_loss: 0.3472 - val_accuracy: 0.8544\n",
            "Epoch 79/100\n",
            "200/200 [==============================] - 1s 3ms/step - loss: 0.3165 - accuracy: 0.8691 - val_loss: 0.3470 - val_accuracy: 0.8587\n",
            "Epoch 80/100\n",
            "200/200 [==============================] - 1s 3ms/step - loss: 0.3165 - accuracy: 0.8694 - val_loss: 0.3471 - val_accuracy: 0.8550\n",
            "Epoch 81/100\n",
            "200/200 [==============================] - 0s 2ms/step - loss: 0.3160 - accuracy: 0.8692 - val_loss: 0.3475 - val_accuracy: 0.8537\n",
            "Epoch 82/100\n",
            "200/200 [==============================] - 1s 3ms/step - loss: 0.3157 - accuracy: 0.8698 - val_loss: 0.3467 - val_accuracy: 0.8562\n",
            "Epoch 83/100\n",
            "200/200 [==============================] - 1s 3ms/step - loss: 0.3155 - accuracy: 0.8700 - val_loss: 0.3465 - val_accuracy: 0.8556\n",
            "Epoch 84/100\n",
            "200/200 [==============================] - 1s 3ms/step - loss: 0.3154 - accuracy: 0.8697 - val_loss: 0.3471 - val_accuracy: 0.8562\n",
            "Epoch 85/100\n",
            "200/200 [==============================] - 1s 3ms/step - loss: 0.3151 - accuracy: 0.8703 - val_loss: 0.3460 - val_accuracy: 0.8575\n",
            "Epoch 86/100\n",
            "200/200 [==============================] - 1s 3ms/step - loss: 0.3153 - accuracy: 0.8691 - val_loss: 0.3485 - val_accuracy: 0.8531\n",
            "Epoch 87/100\n",
            "200/200 [==============================] - 1s 2ms/step - loss: 0.3150 - accuracy: 0.8695 - val_loss: 0.3479 - val_accuracy: 0.8531\n",
            "Epoch 88/100\n",
            "200/200 [==============================] - 1s 3ms/step - loss: 0.3148 - accuracy: 0.8705 - val_loss: 0.3477 - val_accuracy: 0.8569\n",
            "Epoch 89/100\n",
            "200/200 [==============================] - 1s 4ms/step - loss: 0.3149 - accuracy: 0.8700 - val_loss: 0.3497 - val_accuracy: 0.8550\n",
            "Epoch 90/100\n",
            "200/200 [==============================] - 1s 5ms/step - loss: 0.3146 - accuracy: 0.8692 - val_loss: 0.3502 - val_accuracy: 0.8575\n",
            "Epoch 91/100\n",
            "200/200 [==============================] - 1s 5ms/step - loss: 0.3147 - accuracy: 0.8692 - val_loss: 0.3469 - val_accuracy: 0.8600\n",
            "Epoch 92/100\n",
            "200/200 [==============================] - 1s 4ms/step - loss: 0.3151 - accuracy: 0.8708 - val_loss: 0.3479 - val_accuracy: 0.8556\n",
            "Epoch 93/100\n",
            "200/200 [==============================] - 1s 4ms/step - loss: 0.3139 - accuracy: 0.8703 - val_loss: 0.3480 - val_accuracy: 0.8544\n",
            "Epoch 94/100\n",
            "200/200 [==============================] - 1s 3ms/step - loss: 0.3144 - accuracy: 0.8708 - val_loss: 0.3469 - val_accuracy: 0.8562\n",
            "Epoch 95/100\n",
            "200/200 [==============================] - 0s 2ms/step - loss: 0.3147 - accuracy: 0.8717 - val_loss: 0.3484 - val_accuracy: 0.8544\n",
            "Epoch 96/100\n",
            "200/200 [==============================] - 0s 2ms/step - loss: 0.3142 - accuracy: 0.8684 - val_loss: 0.3496 - val_accuracy: 0.8562\n",
            "Epoch 97/100\n",
            "200/200 [==============================] - 1s 3ms/step - loss: 0.3144 - accuracy: 0.8697 - val_loss: 0.3474 - val_accuracy: 0.8569\n",
            "Epoch 98/100\n",
            "200/200 [==============================] - 1s 3ms/step - loss: 0.3139 - accuracy: 0.8705 - val_loss: 0.3481 - val_accuracy: 0.8587\n",
            "Epoch 99/100\n",
            "200/200 [==============================] - 1s 3ms/step - loss: 0.3141 - accuracy: 0.8702 - val_loss: 0.3481 - val_accuracy: 0.8544\n",
            "Epoch 100/100\n",
            "200/200 [==============================] - 1s 4ms/step - loss: 0.3142 - accuracy: 0.8709 - val_loss: 0.3489 - val_accuracy: 0.8562\n"
          ]
        }
      ]
    },
    {
      "cell_type": "code",
      "source": [
        "model2.layers[0].get_weights()"
      ],
      "metadata": {
        "execution": {
          "iopub.status.busy": "2024-06-29T15:01:29.075581Z",
          "iopub.execute_input": "2024-06-29T15:01:29.075999Z",
          "iopub.status.idle": "2024-06-29T15:01:29.086999Z",
          "shell.execute_reply.started": "2024-06-29T15:01:29.075964Z",
          "shell.execute_reply": "2024-06-29T15:01:29.085719Z"
        },
        "trusted": true,
        "id": "-CDSFFlUjgXH",
        "outputId": "f171bca1-36ce-4d21-9196-c909f5eebb43",
        "colab": {
          "base_uri": "https://localhost:8080/"
        }
      },
      "execution_count": 36,
      "outputs": [
        {
          "output_type": "execute_result",
          "data": {
            "text/plain": [
              "[array([[ 0.11675181, -0.16322394, -0.03174093,  0.24361038,  0.19710775,\n",
              "          0.14971559,  0.07748897, -0.18964875,  0.03232292, -0.12935856,\n",
              "          0.06890892],\n",
              "        [-0.5518898 , -0.5870502 , -0.2640696 ,  0.26975146,  0.7982258 ,\n",
              "          0.39422533, -0.6268874 ,  1.0913233 ,  0.4566572 , -0.3570232 ,\n",
              "         -0.89404523],\n",
              "        [ 0.4993591 , -0.22849344, -0.2529377 , -0.19063996,  0.04361731,\n",
              "         -0.20506257, -0.11037672, -0.3521538 , -0.18571164, -0.06311362,\n",
              "         -0.1442317 ],\n",
              "        [-0.03704141,  0.38089383, -0.429111  ,  0.34264964, -0.77885497,\n",
              "         -0.23564287, -0.16678871,  0.8361809 ,  0.00400427, -0.91065943,\n",
              "          0.1345148 ],\n",
              "        [ 0.07894201,  0.237183  ,  1.4827676 , -0.32487804, -0.199743  ,\n",
              "         -0.41993147,  0.38822836,  0.49100494,  0.14740148, -0.20468898,\n",
              "         -0.11367603],\n",
              "        [ 0.24229068, -0.16285902, -0.03826321, -0.25553784, -0.03480392,\n",
              "         -0.07545648, -0.09382424, -0.13998148,  0.12084889, -0.02888404,\n",
              "          0.02774498],\n",
              "        [ 0.4682313 ,  0.2649841 , -0.13368721, -0.33312768,  0.4216409 ,\n",
              "         -0.44280514, -0.33772093, -0.09472302,  0.71497333, -0.16937461,\n",
              "         -1.0520803 ],\n",
              "        [-0.07618036, -0.07812652, -0.09144348, -0.04634747,  0.06565036,\n",
              "          0.35730603,  0.1817749 , -0.08475565,  0.22545564, -0.55293506,\n",
              "         -0.16535819],\n",
              "        [-0.68071944, -0.44142228,  0.04452355, -0.5361898 , -0.3010103 ,\n",
              "          0.28480098,  0.19148386,  0.02118706,  0.21014014,  0.3818912 ,\n",
              "          0.02403943],\n",
              "        [-0.21333386, -0.9453112 ,  0.16057003,  0.37925136,  0.07509395,\n",
              "         -0.0181675 , -0.27010602, -0.32986304,  0.33105665,  0.13984509,\n",
              "         -0.08146007],\n",
              "        [-0.09175298,  0.12742332,  0.17260455,  0.39498   ,  0.3031379 ,\n",
              "         -0.1370588 ,  0.123055  , -0.04001325, -0.03140673,  0.4368807 ,\n",
              "         -0.12087494]], dtype=float32),\n",
              " array([ 0.35995123,  0.21559624, -0.04984924,  0.03228173, -0.3302631 ,\n",
              "         0.48135144,  0.77250594,  0.03746629,  0.02476854,  0.9729394 ,\n",
              "         0.28774196], dtype=float32)]"
            ]
          },
          "metadata": {},
          "execution_count": 36
        }
      ]
    },
    {
      "cell_type": "code",
      "source": [
        "model2.layers[1].get_weights()"
      ],
      "metadata": {
        "execution": {
          "iopub.status.busy": "2024-06-29T15:01:29.859989Z",
          "iopub.execute_input": "2024-06-29T15:01:29.860424Z",
          "iopub.status.idle": "2024-06-29T15:01:29.872249Z",
          "shell.execute_reply.started": "2024-06-29T15:01:29.860389Z",
          "shell.execute_reply": "2024-06-29T15:01:29.870841Z"
        },
        "trusted": true,
        "id": "XRl0xcjkjgXH",
        "outputId": "463f5355-4388-4298-ba7d-47ba96f6c449",
        "colab": {
          "base_uri": "https://localhost:8080/"
        }
      },
      "execution_count": 37,
      "outputs": [
        {
          "output_type": "execute_result",
          "data": {
            "text/plain": [
              "[array([[ 0.67170477,  0.12158665, -0.82820153,  0.21828417,  0.4003741 ,\n",
              "          0.2180199 , -0.2952394 , -0.291423  ,  0.43860868,  0.2976272 ,\n",
              "         -0.3806189 ],\n",
              "        [-0.50177366,  0.1586241 ,  0.42839503, -0.63517606,  0.21004376,\n",
              "          0.1132506 , -0.11273513,  0.0829225 ,  0.4991075 , -0.0686408 ,\n",
              "         -0.16440473],\n",
              "        [ 0.6823657 ,  0.15858042, -0.48279974, -0.64360887, -0.32846224,\n",
              "          0.05974603, -0.49757773,  1.0489194 ,  0.28828466,  0.5317291 ,\n",
              "         -0.10001736],\n",
              "        [-0.79121584,  0.6475935 ,  0.54043096, -0.33770597, -0.10839513,\n",
              "          0.07811428,  0.0991216 ,  0.25780708,  0.5853472 , -0.07342105,\n",
              "         -0.6065057 ],\n",
              "        [-0.49668464, -0.5502174 ,  0.22572784,  0.06154049,  0.67694086,\n",
              "         -0.28896123,  0.39177388, -0.13206233, -0.23950619,  0.43450904,\n",
              "          0.7143233 ],\n",
              "        [ 0.27880043,  0.07320056,  0.25737554,  0.51447815, -0.15557651,\n",
              "         -0.45473185,  0.3415439 , -0.04599626,  0.01362342,  0.15475132,\n",
              "         -0.24309368],\n",
              "        [-0.47477618,  0.4932314 , -0.6149263 , -0.24997509,  0.12229867,\n",
              "          0.7853794 ,  0.37892336, -0.22146374,  0.26921508,  0.3129271 ,\n",
              "          0.5016109 ],\n",
              "        [ 0.56922555, -0.7204942 ,  0.04210222,  0.15360017,  0.55993503,\n",
              "         -0.35152298, -1.0965638 ,  0.27332702, -1.0925072 , -0.04334573,\n",
              "          0.82945776],\n",
              "        [ 0.1783849 ,  0.47950554,  0.4128294 , -0.7935798 ,  0.6209742 ,\n",
              "         -0.8393762 , -0.01342647, -0.37546656, -0.18848962,  0.59260267,\n",
              "         -0.20054892],\n",
              "        [-0.68565273,  0.27973774,  0.18765181,  0.7947261 , -0.60080713,\n",
              "         -0.1366634 , -0.39847007, -0.87800175,  0.63739055,  0.60784274,\n",
              "         -0.57223576],\n",
              "        [-0.26730713, -0.0122732 ,  0.07421337, -0.19400449,  0.2828649 ,\n",
              "          0.30249467, -0.576086  , -0.4765045 , -0.4545914 ,  0.12934223,\n",
              "          0.19111484]], dtype=float32),\n",
              " array([ 0.16358173,  0.38379434,  0.06885569,  0.2729637 ,  0.09173621,\n",
              "        -0.4242905 ,  0.47718388, -0.25564405,  0.32237622,  0.2166035 ,\n",
              "        -0.05928328], dtype=float32)]"
            ]
          },
          "metadata": {},
          "execution_count": 37
        }
      ]
    },
    {
      "cell_type": "code",
      "source": [
        "model2.layers[2].get_weights()"
      ],
      "metadata": {
        "execution": {
          "iopub.status.busy": "2024-06-29T15:01:30.650157Z",
          "iopub.execute_input": "2024-06-29T15:01:30.650572Z",
          "iopub.status.idle": "2024-06-29T15:01:30.659802Z",
          "shell.execute_reply.started": "2024-06-29T15:01:30.650538Z",
          "shell.execute_reply": "2024-06-29T15:01:30.658518Z"
        },
        "trusted": true,
        "id": "WHPQpUwHjgXH",
        "outputId": "b0be36c5-81cc-431e-f5b4-67bc02eb5446",
        "colab": {
          "base_uri": "https://localhost:8080/"
        }
      },
      "execution_count": 38,
      "outputs": [
        {
          "output_type": "execute_result",
          "data": {
            "text/plain": [
              "[array([[ 0.9801959 ],\n",
              "        [-0.9977223 ],\n",
              "        [ 0.81799   ],\n",
              "        [ 1.0863343 ],\n",
              "        [-0.7509851 ],\n",
              "        [ 1.1351539 ],\n",
              "        [ 1.2591349 ],\n",
              "        [ 1.8836325 ],\n",
              "        [-0.61198425],\n",
              "        [-0.35049966],\n",
              "        [-0.69436026]], dtype=float32),\n",
              " array([-0.1472819], dtype=float32)]"
            ]
          },
          "metadata": {},
          "execution_count": 38
        }
      ]
    },
    {
      "cell_type": "code",
      "source": [
        "y2_log = model2.predict(X_test_scaled)"
      ],
      "metadata": {
        "execution": {
          "iopub.status.busy": "2024-06-29T15:01:31.760872Z",
          "iopub.execute_input": "2024-06-29T15:01:31.761302Z",
          "iopub.status.idle": "2024-06-29T15:01:32.087749Z",
          "shell.execute_reply.started": "2024-06-29T15:01:31.761267Z",
          "shell.execute_reply": "2024-06-29T15:01:32.086511Z"
        },
        "trusted": true,
        "id": "5QQ5u6XEjgXH",
        "outputId": "cece4901-45e3-44d7-bbee-5e48714e805c",
        "colab": {
          "base_uri": "https://localhost:8080/"
        }
      },
      "execution_count": 39,
      "outputs": [
        {
          "output_type": "stream",
          "name": "stdout",
          "text": [
            "63/63 [==============================] - 0s 2ms/step\n"
          ]
        }
      ]
    },
    {
      "cell_type": "code",
      "source": [
        "y2_pred = np.where(y2_log>0.5,1,0)"
      ],
      "metadata": {
        "execution": {
          "iopub.status.busy": "2024-06-29T15:01:35.006905Z",
          "iopub.execute_input": "2024-06-29T15:01:35.007294Z",
          "iopub.status.idle": "2024-06-29T15:01:35.013108Z",
          "shell.execute_reply.started": "2024-06-29T15:01:35.007264Z",
          "shell.execute_reply": "2024-06-29T15:01:35.011821Z"
        },
        "trusted": true,
        "id": "aEXYhqgVjgXH"
      },
      "execution_count": 40,
      "outputs": []
    },
    {
      "cell_type": "code",
      "source": [
        "from sklearn.metrics import accuracy_score\n",
        "accuracy_score(y_test,y2_pred)"
      ],
      "metadata": {
        "execution": {
          "iopub.status.busy": "2024-06-29T15:01:39.661146Z",
          "iopub.execute_input": "2024-06-29T15:01:39.661596Z",
          "iopub.status.idle": "2024-06-29T15:01:39.671028Z",
          "shell.execute_reply.started": "2024-06-29T15:01:39.661556Z",
          "shell.execute_reply": "2024-06-29T15:01:39.669872Z"
        },
        "trusted": true,
        "id": "dBh2AE_4jgXH",
        "outputId": "43f79c1d-ef5b-4e5a-a02b-4da95ce25ec3",
        "colab": {
          "base_uri": "https://localhost:8080/"
        }
      },
      "execution_count": 41,
      "outputs": [
        {
          "output_type": "execute_result",
          "data": {
            "text/plain": [
              "0.861"
            ]
          },
          "metadata": {},
          "execution_count": 41
        }
      ]
    },
    {
      "cell_type": "code",
      "source": [
        "#We should plot the graph of any stage to get idea about the performance of the neural network."
      ],
      "metadata": {
        "execution": {
          "iopub.status.busy": "2024-06-29T15:01:41.270347Z",
          "iopub.execute_input": "2024-06-29T15:01:41.271638Z",
          "iopub.status.idle": "2024-06-29T15:01:41.276018Z",
          "shell.execute_reply.started": "2024-06-29T15:01:41.27159Z",
          "shell.execute_reply": "2024-06-29T15:01:41.274864Z"
        },
        "trusted": true,
        "id": "rcNNiJmsjgXH"
      },
      "execution_count": 42,
      "outputs": []
    },
    {
      "cell_type": "code",
      "source": [
        "import matplotlib.pyplot as plt\n"
      ],
      "metadata": {
        "execution": {
          "iopub.status.busy": "2024-06-29T15:01:44.673221Z",
          "iopub.execute_input": "2024-06-29T15:01:44.673644Z",
          "iopub.status.idle": "2024-06-29T15:01:44.679288Z",
          "shell.execute_reply.started": "2024-06-29T15:01:44.673607Z",
          "shell.execute_reply": "2024-06-29T15:01:44.678058Z"
        },
        "trusted": true,
        "id": "WXHL4GI_jgXL"
      },
      "execution_count": 43,
      "outputs": []
    },
    {
      "cell_type": "code",
      "source": [
        "history.history\n",
        "#We get a dictionary of the accuracy,loss,validation_accuracy.validation_loss of all the epochs."
      ],
      "metadata": {
        "execution": {
          "iopub.status.busy": "2024-06-29T15:01:46.512191Z",
          "iopub.execute_input": "2024-06-29T15:01:46.512627Z",
          "iopub.status.idle": "2024-06-29T15:01:46.525266Z",
          "shell.execute_reply.started": "2024-06-29T15:01:46.512592Z",
          "shell.execute_reply": "2024-06-29T15:01:46.524024Z"
        },
        "trusted": true,
        "id": "Lfu-GA8yjgXM",
        "outputId": "923a763c-1fd4-4851-eda8-383f2ffdf4dc",
        "colab": {
          "base_uri": "https://localhost:8080/"
        }
      },
      "execution_count": 44,
      "outputs": [
        {
          "output_type": "execute_result",
          "data": {
            "text/plain": [
              "{'loss': [0.5680819153785706,\n",
              "  0.47754183411598206,\n",
              "  0.4503060281276703,\n",
              "  0.4333448112010956,\n",
              "  0.4230080544948578,\n",
              "  0.4144595265388489,\n",
              "  0.40502506494522095,\n",
              "  0.3939339816570282,\n",
              "  0.3812517821788788,\n",
              "  0.37048855423927307,\n",
              "  0.36180004477500916,\n",
              "  0.3558070659637451,\n",
              "  0.3508293628692627,\n",
              "  0.34762123227119446,\n",
              "  0.34425684809684753,\n",
              "  0.34187230467796326,\n",
              "  0.33948075771331787,\n",
              "  0.3384624123573303,\n",
              "  0.33617427945137024,\n",
              "  0.33562782406806946,\n",
              "  0.33407461643218994,\n",
              "  0.33324146270751953,\n",
              "  0.3325977325439453,\n",
              "  0.3322151303291321,\n",
              "  0.33110418915748596,\n",
              "  0.3310225307941437,\n",
              "  0.3302238881587982,\n",
              "  0.32979217171669006,\n",
              "  0.3289583623409271,\n",
              "  0.32917189598083496,\n",
              "  0.32802170515060425,\n",
              "  0.3274402320384979,\n",
              "  0.32745760679244995,\n",
              "  0.3269416391849518,\n",
              "  0.3262815475463867,\n",
              "  0.3260170817375183,\n",
              "  0.32577836513519287,\n",
              "  0.3253783881664276,\n",
              "  0.3247112035751343,\n",
              "  0.3245273232460022,\n",
              "  0.3241702616214752,\n",
              "  0.324179083108902,\n",
              "  0.3236849904060364,\n",
              "  0.32315754890441895,\n",
              "  0.32309940457344055,\n",
              "  0.32241326570510864,\n",
              "  0.3222643733024597,\n",
              "  0.32247981429100037,\n",
              "  0.322066068649292,\n",
              "  0.3214300274848938,\n",
              "  0.3211599290370941,\n",
              "  0.3209437429904938,\n",
              "  0.3209119439125061,\n",
              "  0.32034003734588623,\n",
              "  0.319764643907547,\n",
              "  0.3200126588344574,\n",
              "  0.31995558738708496,\n",
              "  0.3194960355758667,\n",
              "  0.31911253929138184,\n",
              "  0.3186628222465515,\n",
              "  0.3188302516937256,\n",
              "  0.31890061497688293,\n",
              "  0.3183586299419403,\n",
              "  0.3181682825088501,\n",
              "  0.317839652299881,\n",
              "  0.3180677592754364,\n",
              "  0.3176109492778778,\n",
              "  0.3177262842655182,\n",
              "  0.3176356256008148,\n",
              "  0.31771841645240784,\n",
              "  0.3168620467185974,\n",
              "  0.3167676329612732,\n",
              "  0.3166777193546295,\n",
              "  0.3161155879497528,\n",
              "  0.3168221414089203,\n",
              "  0.31644365191459656,\n",
              "  0.316204309463501,\n",
              "  0.3168233633041382,\n",
              "  0.31645357608795166,\n",
              "  0.3164566159248352,\n",
              "  0.315984845161438,\n",
              "  0.3157452344894409,\n",
              "  0.3155171871185303,\n",
              "  0.31543630361557007,\n",
              "  0.31513115763664246,\n",
              "  0.31532564759254456,\n",
              "  0.31503918766975403,\n",
              "  0.314828097820282,\n",
              "  0.3148711323738098,\n",
              "  0.31459227204322815,\n",
              "  0.3146861791610718,\n",
              "  0.3150699734687805,\n",
              "  0.3138527572154999,\n",
              "  0.31441178917884827,\n",
              "  0.31474608182907104,\n",
              "  0.3142212927341461,\n",
              "  0.3143993616104126,\n",
              "  0.31390097737312317,\n",
              "  0.3141130805015564,\n",
              "  0.3141745328903198],\n",
              " 'accuracy': [0.7332812547683716,\n",
              "  0.7954687476158142,\n",
              "  0.8009374737739563,\n",
              "  0.8146874904632568,\n",
              "  0.8198437690734863,\n",
              "  0.8262500166893005,\n",
              "  0.8292187452316284,\n",
              "  0.8345312476158142,\n",
              "  0.8418750166893005,\n",
              "  0.8493750095367432,\n",
              "  0.8529687523841858,\n",
              "  0.854687511920929,\n",
              "  0.8557812571525574,\n",
              "  0.856249988079071,\n",
              "  0.8579687476158142,\n",
              "  0.8581249713897705,\n",
              "  0.8581249713897705,\n",
              "  0.8582812547683716,\n",
              "  0.8596875071525574,\n",
              "  0.8615624904632568,\n",
              "  0.8623437285423279,\n",
              "  0.8620312213897705,\n",
              "  0.862500011920929,\n",
              "  0.8634374737739563,\n",
              "  0.8639062643051147,\n",
              "  0.8634374737739563,\n",
              "  0.8637499809265137,\n",
              "  0.8617187738418579,\n",
              "  0.8626562356948853,\n",
              "  0.8634374737739563,\n",
              "  0.8645312786102295,\n",
              "  0.864062488079071,\n",
              "  0.8646875023841858,\n",
              "  0.8665624856948853,\n",
              "  0.8667187690734863,\n",
              "  0.8671875,\n",
              "  0.864062488079071,\n",
              "  0.8657812476158142,\n",
              "  0.8670312762260437,\n",
              "  0.8667187690734863,\n",
              "  0.8667187690734863,\n",
              "  0.8673437237739563,\n",
              "  0.866406261920929,\n",
              "  0.8667187690734863,\n",
              "  0.8678125143051147,\n",
              "  0.8665624856948853,\n",
              "  0.8676562309265137,\n",
              "  0.8654687404632568,\n",
              "  0.8670312762260437,\n",
              "  0.8675000071525574,\n",
              "  0.8660937547683716,\n",
              "  0.8673437237739563,\n",
              "  0.867968738079071,\n",
              "  0.8681250214576721,\n",
              "  0.8676562309265137,\n",
              "  0.8675000071525574,\n",
              "  0.8678125143051147,\n",
              "  0.8682812452316284,\n",
              "  0.8685937523841858,\n",
              "  0.8682812452316284,\n",
              "  0.8682812452316284,\n",
              "  0.8706250190734863,\n",
              "  0.8678125143051147,\n",
              "  0.8698437213897705,\n",
              "  0.8706250190734863,\n",
              "  0.8689062595367432,\n",
              "  0.8696874976158142,\n",
              "  0.870312511920929,\n",
              "  0.8690624833106995,\n",
              "  0.8700000047683716,\n",
              "  0.8675000071525574,\n",
              "  0.8690624833106995,\n",
              "  0.8687499761581421,\n",
              "  0.8692187666893005,\n",
              "  0.8709375262260437,\n",
              "  0.8700000047683716,\n",
              "  0.8701562285423279,\n",
              "  0.8693749904632568,\n",
              "  0.8690624833106995,\n",
              "  0.8693749904632568,\n",
              "  0.8692187666893005,\n",
              "  0.8698437213897705,\n",
              "  0.8700000047683716,\n",
              "  0.8696874976158142,\n",
              "  0.870312511920929,\n",
              "  0.8690624833106995,\n",
              "  0.8695312738418579,\n",
              "  0.8704687356948853,\n",
              "  0.8700000047683716,\n",
              "  0.8692187666893005,\n",
              "  0.8692187666893005,\n",
              "  0.8707812428474426,\n",
              "  0.870312511920929,\n",
              "  0.8707812428474426,\n",
              "  0.8717187643051147,\n",
              "  0.8684375286102295,\n",
              "  0.8696874976158142,\n",
              "  0.8704687356948853,\n",
              "  0.8701562285423279,\n",
              "  0.8709375262260437],\n",
              " 'val_loss': [0.49045220017433167,\n",
              "  0.4498336911201477,\n",
              "  0.4264998733997345,\n",
              "  0.4135207235813141,\n",
              "  0.4052939713001251,\n",
              "  0.3985814154148102,\n",
              "  0.3911283612251282,\n",
              "  0.381968230009079,\n",
              "  0.373269259929657,\n",
              "  0.3653620481491089,\n",
              "  0.3614395260810852,\n",
              "  0.35678672790527344,\n",
              "  0.3547889292240143,\n",
              "  0.3527144491672516,\n",
              "  0.35216373205184937,\n",
              "  0.35183241963386536,\n",
              "  0.34961795806884766,\n",
              "  0.3496430218219757,\n",
              "  0.35089170932769775,\n",
              "  0.3476870059967041,\n",
              "  0.34864342212677,\n",
              "  0.34753674268722534,\n",
              "  0.3477281332015991,\n",
              "  0.3465801477432251,\n",
              "  0.34662407636642456,\n",
              "  0.3465893566608429,\n",
              "  0.3457493185997009,\n",
              "  0.3479881286621094,\n",
              "  0.34946975111961365,\n",
              "  0.3459046483039856,\n",
              "  0.3457912802696228,\n",
              "  0.34621208906173706,\n",
              "  0.3449912667274475,\n",
              "  0.34514641761779785,\n",
              "  0.3449508249759674,\n",
              "  0.3454250991344452,\n",
              "  0.345233678817749,\n",
              "  0.3451794683933258,\n",
              "  0.34538403153419495,\n",
              "  0.34397149085998535,\n",
              "  0.3464731276035309,\n",
              "  0.3451522886753082,\n",
              "  0.34419235587120056,\n",
              "  0.34328949451446533,\n",
              "  0.3444834053516388,\n",
              "  0.3449208438396454,\n",
              "  0.3441812992095947,\n",
              "  0.34392011165618896,\n",
              "  0.34471702575683594,\n",
              "  0.3445133566856384,\n",
              "  0.3455195128917694,\n",
              "  0.3445245623588562,\n",
              "  0.34555691480636597,\n",
              "  0.3449802100658417,\n",
              "  0.34744495153427124,\n",
              "  0.3461590111255646,\n",
              "  0.3456207513809204,\n",
              "  0.34512633085250854,\n",
              "  0.3459170460700989,\n",
              "  0.3464851379394531,\n",
              "  0.3462235629558563,\n",
              "  0.34633782505989075,\n",
              "  0.3491077721118927,\n",
              "  0.34486672282218933,\n",
              "  0.3447605073451996,\n",
              "  0.3464776277542114,\n",
              "  0.34403857588768005,\n",
              "  0.3463163673877716,\n",
              "  0.347748339176178,\n",
              "  0.3477010726928711,\n",
              "  0.34623295068740845,\n",
              "  0.3466847538948059,\n",
              "  0.34659138321876526,\n",
              "  0.3468131124973297,\n",
              "  0.345662385225296,\n",
              "  0.3467298150062561,\n",
              "  0.34633952379226685,\n",
              "  0.34721919894218445,\n",
              "  0.3470320999622345,\n",
              "  0.34714803099632263,\n",
              "  0.34745749831199646,\n",
              "  0.34667855501174927,\n",
              "  0.34646856784820557,\n",
              "  0.3471066653728485,\n",
              "  0.34597262740135193,\n",
              "  0.3484939932823181,\n",
              "  0.3479353189468384,\n",
              "  0.34773775935173035,\n",
              "  0.3496936559677124,\n",
              "  0.3501635789871216,\n",
              "  0.34689196944236755,\n",
              "  0.3479195833206177,\n",
              "  0.3479612469673157,\n",
              "  0.3469238579273224,\n",
              "  0.34836822748184204,\n",
              "  0.34956496953964233,\n",
              "  0.3473994731903076,\n",
              "  0.3481323719024658,\n",
              "  0.3481372892856598,\n",
              "  0.34893521666526794],\n",
              " 'val_accuracy': [0.7987499833106995,\n",
              "  0.8018749952316284,\n",
              "  0.8181250095367432,\n",
              "  0.8243749737739563,\n",
              "  0.8293750286102295,\n",
              "  0.831250011920929,\n",
              "  0.8374999761581421,\n",
              "  0.8424999713897705,\n",
              "  0.8525000214576721,\n",
              "  0.8500000238418579,\n",
              "  0.8500000238418579,\n",
              "  0.8512499928474426,\n",
              "  0.8487499952316284,\n",
              "  0.8506249785423279,\n",
              "  0.8518750071525574,\n",
              "  0.8500000238418579,\n",
              "  0.8550000190734863,\n",
              "  0.8543750047683716,\n",
              "  0.8575000166893005,\n",
              "  0.8575000166893005,\n",
              "  0.8550000190734863,\n",
              "  0.8556249737739563,\n",
              "  0.8550000190734863,\n",
              "  0.856249988079071,\n",
              "  0.8556249737739563,\n",
              "  0.8550000190734863,\n",
              "  0.8550000190734863,\n",
              "  0.856249988079071,\n",
              "  0.8575000166893005,\n",
              "  0.8550000190734863,\n",
              "  0.8512499928474426,\n",
              "  0.8575000166893005,\n",
              "  0.8518750071525574,\n",
              "  0.8537499904632568,\n",
              "  0.8575000166893005,\n",
              "  0.8581249713897705,\n",
              "  0.8606250286102295,\n",
              "  0.8587499856948853,\n",
              "  0.8581249713897705,\n",
              "  0.8543750047683716,\n",
              "  0.8618749976158142,\n",
              "  0.856249988079071,\n",
              "  0.8587499856948853,\n",
              "  0.8543750047683716,\n",
              "  0.8568750023841858,\n",
              "  0.8581249713897705,\n",
              "  0.8556249737739563,\n",
              "  0.8581249713897705,\n",
              "  0.8581249713897705,\n",
              "  0.8575000166893005,\n",
              "  0.8537499904632568,\n",
              "  0.8575000166893005,\n",
              "  0.8581249713897705,\n",
              "  0.8568750023841858,\n",
              "  0.8575000166893005,\n",
              "  0.8531249761581421,\n",
              "  0.8568750023841858,\n",
              "  0.8568750023841858,\n",
              "  0.856249988079071,\n",
              "  0.8518750071525574,\n",
              "  0.8543750047683716,\n",
              "  0.8543750047683716,\n",
              "  0.8556249737739563,\n",
              "  0.856249988079071,\n",
              "  0.8556249737739563,\n",
              "  0.8568750023841858,\n",
              "  0.8556249737739563,\n",
              "  0.8556249737739563,\n",
              "  0.856249988079071,\n",
              "  0.8581249713897705,\n",
              "  0.8568750023841858,\n",
              "  0.8575000166893005,\n",
              "  0.8581249713897705,\n",
              "  0.8543750047683716,\n",
              "  0.8575000166893005,\n",
              "  0.8550000190734863,\n",
              "  0.8537499904632568,\n",
              "  0.8543750047683716,\n",
              "  0.8587499856948853,\n",
              "  0.8550000190734863,\n",
              "  0.8537499904632568,\n",
              "  0.856249988079071,\n",
              "  0.8556249737739563,\n",
              "  0.856249988079071,\n",
              "  0.8575000166893005,\n",
              "  0.8531249761581421,\n",
              "  0.8531249761581421,\n",
              "  0.8568750023841858,\n",
              "  0.8550000190734863,\n",
              "  0.8575000166893005,\n",
              "  0.8600000143051147,\n",
              "  0.8556249737739563,\n",
              "  0.8543750047683716,\n",
              "  0.856249988079071,\n",
              "  0.8543750047683716,\n",
              "  0.856249988079071,\n",
              "  0.8568750023841858,\n",
              "  0.8587499856948853,\n",
              "  0.8543750047683716,\n",
              "  0.856249988079071]}"
            ]
          },
          "metadata": {},
          "execution_count": 44
        }
      ]
    },
    {
      "cell_type": "code",
      "source": [
        "plt.plot(history.history['loss'])\n",
        "plt.plot(history.history['val_loss'])"
      ],
      "metadata": {
        "execution": {
          "iopub.status.busy": "2024-06-29T15:01:56.620404Z",
          "iopub.execute_input": "2024-06-29T15:01:56.620834Z",
          "iopub.status.idle": "2024-06-29T15:01:56.879188Z",
          "shell.execute_reply.started": "2024-06-29T15:01:56.620801Z",
          "shell.execute_reply": "2024-06-29T15:01:56.877949Z"
        },
        "trusted": true,
        "id": "k1igUtOkjgXM",
        "outputId": "3e776762-96f7-42b0-fdfe-58655fcc6996",
        "colab": {
          "base_uri": "https://localhost:8080/",
          "height": 447
        }
      },
      "execution_count": 45,
      "outputs": [
        {
          "output_type": "execute_result",
          "data": {
            "text/plain": [
              "[<matplotlib.lines.Line2D at 0x7f2d63d76920>]"
            ]
          },
          "metadata": {},
          "execution_count": 45
        },
        {
          "output_type": "display_data",
          "data": {
            "text/plain": [
              "<Figure size 640x480 with 1 Axes>"
            ],
            "image/png": "[encoded data removed]"
          },
          "metadata": {}
        }
      ]
    },
    {
      "cell_type": "code",
      "source": [
        "#from the above graph, we get the idea of overfitting.\n"
      ],
      "metadata": {
        "execution": {
          "iopub.status.busy": "2024-06-29T15:02:43.759825Z",
          "iopub.execute_input": "2024-06-29T15:02:43.760217Z",
          "iopub.status.idle": "2024-06-29T15:02:43.7656Z",
          "shell.execute_reply.started": "2024-06-29T15:02:43.760188Z",
          "shell.execute_reply": "2024-06-29T15:02:43.764198Z"
        },
        "trusted": true,
        "id": "IzxFu4IGjgXM"
      },
      "execution_count": 46,
      "outputs": []
    },
    {
      "cell_type": "code",
      "source": [
        "plt.plot(history.history['accuracy'])\n",
        "plt.plot(history.history['val_accuracy'])"
      ],
      "metadata": {
        "execution": {
          "iopub.status.busy": "2024-06-29T15:03:56.111039Z",
          "iopub.execute_input": "2024-06-29T15:03:56.111529Z",
          "iopub.status.idle": "2024-06-29T15:03:56.324591Z",
          "shell.execute_reply.started": "2024-06-29T15:03:56.11148Z",
          "shell.execute_reply": "2024-06-29T15:03:56.323287Z"
        },
        "trusted": true,
        "id": "ciKrDFrMjgXM",
        "outputId": "e9a9335f-21dd-400a-87fb-2e0179e38257",
        "colab": {
          "base_uri": "https://localhost:8080/",
          "height": 447
        }
      },
      "execution_count": 47,
      "outputs": [
        {
          "output_type": "execute_result",
          "data": {
            "text/plain": [
              "[<matplotlib.lines.Line2D at 0x7f2d63c65b70>]"
            ]
          },
          "metadata": {},
          "execution_count": 47
        },
        {
          "output_type": "display_data",
          "data": {
            "text/plain": [
              "<Figure size 640x480 with 1 Axes>"
            ],
            "image/png": "[encoded data removed]"
          },
          "metadata": {}
        }
      ]
    },
    {
      "cell_type": "code",
      "source": [
        "#As we can see the gap betweent the plot, we can say some sort of overfitting is there."
      ],
      "metadata": {
        "execution": {
          "iopub.status.busy": "2024-06-29T15:04:59.555721Z",
          "iopub.execute_input": "2024-06-29T15:04:59.556222Z",
          "iopub.status.idle": "2024-06-29T15:04:59.561678Z",
          "shell.execute_reply.started": "2024-06-29T15:04:59.556184Z",
          "shell.execute_reply": "2024-06-29T15:04:59.560236Z"
        },
        "trusted": true,
        "id": "YAGYQi6rjgXM"
      },
      "execution_count": 48,
      "outputs": []
    },
    {
      "cell_type": "code",
      "source": [],
      "metadata": {
        "id": "qIQc4tUNjgXM"
      },
      "execution_count": 48,
      "outputs": []
    }
  ]
}